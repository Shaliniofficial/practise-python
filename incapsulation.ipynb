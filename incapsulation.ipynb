{
 "cells": [
  {
   "cell_type": "code",
   "execution_count": 174,
   "id": "e72ec974-3b90-4d95-a7eb-f762d8b28fdc",
   "metadata": {},
   "outputs": [],
   "source": [
    "class bank_account:\n",
    "    def __init__(self,balance):\n",
    "        self.__balance=balance\n",
    "\n",
    "    def deposite(self,amount):\n",
    "        self.__balance= self.__balance + amount\n",
    "\n",
    "    def withraw(self,amount):\n",
    "        if self.__balance>= amount:\n",
    "            self.__balance=self.__balance - amount\n",
    "            return True\n",
    "        else:\n",
    "            return False\n",
    "\n",
    "    def get_balance(self):\n",
    "        return self.__balance\n",
    "    \n",
    "\n"
   ]
  },
  {
   "cell_type": "code",
   "execution_count": 175,
   "id": "174a71b3-3b35-42fa-af09-5652bba18fcd",
   "metadata": {},
   "outputs": [],
   "source": [
    "shalini=bank_account(1000)"
   ]
  },
  {
   "cell_type": "code",
   "execution_count": 176,
   "id": "25ce80cd-dace-43ac-aa3e-ec7bcfba574c",
   "metadata": {},
   "outputs": [
    {
     "data": {
      "text/plain": [
       "1000"
      ]
     },
     "execution_count": 176,
     "metadata": {},
     "output_type": "execute_result"
    }
   ],
   "source": [
    "shalini.get_balance()"
   ]
  },
  {
   "cell_type": "code",
   "execution_count": 177,
   "id": "10d96426-318b-4e8f-8d7c-81326e3aed2a",
   "metadata": {},
   "outputs": [],
   "source": [
    "shalini.deposite(1000)"
   ]
  },
  {
   "cell_type": "code",
   "execution_count": 178,
   "id": "d09d6b32-6f28-4523-a4d4-685c224b6a9b",
   "metadata": {},
   "outputs": [
    {
     "data": {
      "text/plain": [
       "2000"
      ]
     },
     "execution_count": 178,
     "metadata": {},
     "output_type": "execute_result"
    }
   ],
   "source": [
    "shalini.get_balance()"
   ]
  },
  {
   "cell_type": "code",
   "execution_count": 168,
   "id": "45010e3c-136e-4f41-94fe-9ba2bcc63284",
   "metadata": {},
   "outputs": [],
   "source": [
    "shalini.deposite(300)"
   ]
  },
  {
   "cell_type": "code",
   "execution_count": 169,
   "id": "06d971e2-317c-4fca-92c3-19c9613d1a74",
   "metadata": {},
   "outputs": [
    {
     "data": {
      "text/plain": [
       "1000"
      ]
     },
     "execution_count": 169,
     "metadata": {},
     "output_type": "execute_result"
    }
   ],
   "source": [
    "shalini.get_balance()"
   ]
  },
  {
   "cell_type": "code",
   "execution_count": 170,
   "id": "cc7f899f-e6dd-4679-97a6-9494fcfefeff",
   "metadata": {},
   "outputs": [
    {
     "data": {
      "text/plain": [
       "True"
      ]
     },
     "execution_count": 170,
     "metadata": {},
     "output_type": "execute_result"
    }
   ],
   "source": [
    "shalini.withraw(200)"
   ]
  },
  {
   "cell_type": "code",
   "execution_count": 171,
   "id": "85054939-ab86-4621-9680-9b977e36e352",
   "metadata": {},
   "outputs": [
    {
     "data": {
      "text/plain": [
       "1000"
      ]
     },
     "execution_count": 171,
     "metadata": {},
     "output_type": "execute_result"
    }
   ],
   "source": [
    "shalini.get_balance()"
   ]
  },
  {
   "cell_type": "code",
   "execution_count": null,
   "id": "b0d85d9a-bfd6-4d21-853c-f8393586c2be",
   "metadata": {},
   "outputs": [],
   "source": []
  },
  {
   "cell_type": "code",
   "execution_count": null,
   "id": "6629a9d5-013b-4de6-858a-d210b174df7e",
   "metadata": {},
   "outputs": [],
   "source": []
  },
  {
   "cell_type": "code",
   "execution_count": null,
   "id": "dbfcd449-40b8-4211-a63c-03f08c32c789",
   "metadata": {},
   "outputs": [],
   "source": []
  }
 ],
 "metadata": {
  "kernelspec": {
   "display_name": "Python 3 (ipykernel)",
   "language": "python",
   "name": "python3"
  },
  "language_info": {
   "codemirror_mode": {
    "name": "ipython",
    "version": 3
   },
   "file_extension": ".py",
   "mimetype": "text/x-python",
   "name": "python",
   "nbconvert_exporter": "python",
   "pygments_lexer": "ipython3",
   "version": "3.13.1"
  }
 },
 "nbformat": 4,
 "nbformat_minor": 5
}
