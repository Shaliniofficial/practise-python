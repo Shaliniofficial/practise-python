{
 "cells": [
  {
   "cell_type": "code",
   "execution_count": 83,
   "id": "95d910e4-eb35-4662-b58f-881081cb0e60",
   "metadata": {},
   "outputs": [],
   "source": [
    "class data_science:\n",
    "    def syllabus(self):\n",
    "        print(\"this is syllabus for ds\")"
   ]
  },
  {
   "cell_type": "code",
   "execution_count": 84,
   "id": "de8fa172-4783-4ffc-b1e2-bb79444fbb7a",
   "metadata": {},
   "outputs": [],
   "source": [
    "class web_dev:\n",
    "    def syllabus(self):\n",
    "        print(\"this is syllabus for webdev\")"
   ]
  },
  {
   "cell_type": "code",
   "execution_count": 85,
   "id": "416cbdcc-8796-4d50-b6cb-ad3c5de27999",
   "metadata": {},
   "outputs": [],
   "source": [
    "def class_parcer(class_obj):\n",
    "    for i in class_obj:\n",
    "        i.syllabus()"
   ]
  },
  {
   "cell_type": "code",
   "execution_count": 86,
   "id": "651faf6a-20a6-4220-9b2a-7a0cd4956c20",
   "metadata": {},
   "outputs": [],
   "source": [
    "data_science=data_science()"
   ]
  },
  {
   "cell_type": "code",
   "execution_count": 87,
   "id": "2ee64714-3129-4195-b27b-384e04c8cd4d",
   "metadata": {},
   "outputs": [],
   "source": [
    "web_dev=web_dev()"
   ]
  },
  {
   "cell_type": "code",
   "execution_count": 88,
   "id": "ac5ebcdf-d47e-4065-b379-060f5c6e4394",
   "metadata": {},
   "outputs": [],
   "source": [
    "class_obj=[data_science,web_dev]"
   ]
  },
  {
   "cell_type": "code",
   "execution_count": 89,
   "id": "b60d9116-aed9-4556-a911-af66be043e0e",
   "metadata": {},
   "outputs": [
    {
     "name": "stdout",
     "output_type": "stream",
     "text": [
      "this is syllabus for ds\n",
      "this is syllabus for webdev\n"
     ]
    }
   ],
   "source": [
    "class_parcer(class_obj)"
   ]
  },
  {
   "cell_type": "code",
   "execution_count": null,
   "id": "5c1fbe1a-379e-4e48-912d-17df3bc3f261",
   "metadata": {},
   "outputs": [],
   "source": []
  }
 ],
 "metadata": {
  "kernelspec": {
   "display_name": "Python 3 (ipykernel)",
   "language": "python",
   "name": "python3"
  },
  "language_info": {
   "codemirror_mode": {
    "name": "ipython",
    "version": 3
   },
   "file_extension": ".py",
   "mimetype": "text/x-python",
   "name": "python",
   "nbconvert_exporter": "python",
   "pygments_lexer": "ipython3",
   "version": "3.13.1"
  }
 },
 "nbformat": 4,
 "nbformat_minor": 5
}
