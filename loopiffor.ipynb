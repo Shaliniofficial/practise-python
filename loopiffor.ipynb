{
 "cells": [
  {
   "cell_type": "code",
   "execution_count": 3,
   "id": "8bc05108-8760-4ac7-9e35-9e3d497ffbb7",
   "metadata": {},
   "outputs": [
    {
     "name": "stdout",
     "output_type": "stream",
     "text": [
      "shalini\n",
      "maurya\n",
      "bittu\n",
      "shivendra\n"
     ]
    }
   ],
   "source": [
    "l1=[\"shalini\",\"maurya\",\"bittu\",\"shivendra\"]\n",
    "for i in l1:\n",
    "    print (i)"
   ]
  },
  {
   "cell_type": "code",
   "execution_count": 4,
   "id": "f3b4805c-f98f-48bd-bf06-7dbad020ff9d",
   "metadata": {},
   "outputs": [
    {
     "name": "stdout",
     "output_type": "stream",
     "text": [
      "shalini\n",
      "maurya\n",
      "bittu\n",
      "shivendra\n",
      "i dont care\n"
     ]
    }
   ],
   "source": [
    "l1=[\"shalini\",\"maurya\",\"bittu\",\"shivendra\"]\n",
    "for i in l1:\n",
    "    print(i)\n",
    "else:\n",
    "    print(\"i dont care\")"
   ]
  },
  {
   "cell_type": "code",
   "execution_count": 22,
   "id": "f33b19c2-fe68-4b6a-b3ab-ba69ea5ce098",
   "metadata": {},
   "outputs": [
    {
     "name": "stdout",
     "output_type": "stream",
     "text": [
      "shalini\n",
      "maurya\n"
     ]
    }
   ],
   "source": [
    "l1=[\"shalini\",\"maurya\",\"bittu\",\"shivendra\"]\n",
    "for i in l1:\n",
    "    if i==\"bittu\":\n",
    "        break\n",
    "    print(i)\n",
    "   "
   ]
  },
  {
   "cell_type": "code",
   "execution_count": 21,
   "id": "cec0cfda-bf35-4f9f-8aa6-8716a6195d13",
   "metadata": {},
   "outputs": [
    {
     "name": "stdout",
     "output_type": "stream",
     "text": [
      "shalini\n",
      "maurya\n"
     ]
    }
   ],
   "source": [
    "l1=[\"shalini\",\"maurya\",\"bittu\",\"shivendra\"]\n",
    "for i in l1:\n",
    "    if i == \"bittu\":\n",
    "        break  # Stops loop when \"bittu\" is found\n",
    "    print(i)  # This will execute only if \"bittu\" is not found\n"
   ]
  },
  {
   "cell_type": "code",
   "execution_count": 2,
   "id": "0d20febe-56c3-4dc1-a5b2-9f92a50e7522",
   "metadata": {},
   "outputs": [
    {
     "name": "stdout",
     "output_type": "stream",
     "text": [
      "shalini\n",
      "maurya\n",
      "bittu\n",
      "shivendra\n",
      "my name is shalini\n"
     ]
    }
   ],
   "source": [
    "l1=[\"shalini\",\"maurya\",\"bittu\",\"shivendra\"]\n",
    "for i in l1:\n",
    "    print(i)\n",
    "else:\n",
    "    print(\"my name is shalini\")\n",
    "    "
   ]
  },
  {
   "cell_type": "code",
   "execution_count": 8,
   "id": "81644cd0-a85e-44de-89bf-4a57e6a2fda4",
   "metadata": {},
   "outputs": [
    {
     "name": "stdout",
     "output_type": "stream",
     "text": [
      "shalini\n",
      "bittu\n",
      "shivendra\n"
     ]
    }
   ],
   "source": [
    "l1=[\"shalini\",\"maurya\",\"bittu\",\"shivendra\"]\n",
    "for i in l1:\n",
    "    if i==\"maurya\":\n",
    "        continue\n",
    "    print(i)\n",
    "    \n",
    "    "
   ]
  },
  {
   "cell_type": "code",
   "execution_count": 10,
   "id": "4ac9718f-d66b-47d7-9103-e7c06624f43f",
   "metadata": {},
   "outputs": [
    {
     "name": "stdout",
     "output_type": "stream",
     "text": [
      "shalini\n",
      "bittu\n",
      "shivendra\n",
      "my name is shlini\n"
     ]
    }
   ],
   "source": [
    "l1=[\"shalini\",\"maurya\",\"bittu\",\"shivendra\"]\n",
    "for i in l1:\n",
    "    if i==\"maurya\":\n",
    "        continue\n",
    "    print(i)\n",
    "else:\n",
    "    print(\"my name is shlini\")"
   ]
  },
  {
   "cell_type": "code",
   "execution_count": 11,
   "id": "3479b24c-2186-47de-9db5-10ef7614b737",
   "metadata": {},
   "outputs": [
    {
     "data": {
      "text/plain": [
       "range(0, 5)"
      ]
     },
     "execution_count": 11,
     "metadata": {},
     "output_type": "execute_result"
    }
   ],
   "source": [
    "range(5)"
   ]
  },
  {
   "cell_type": "code",
   "execution_count": 12,
   "id": "ff24afd4-cdbf-4570-8804-064265e7de22",
   "metadata": {},
   "outputs": [
    {
     "data": {
      "text/plain": [
       "[0, 1, 2, 3, 4, 5, 6, 7]"
      ]
     },
     "execution_count": 12,
     "metadata": {},
     "output_type": "execute_result"
    }
   ],
   "source": [
    "list(range(8))"
   ]
  },
  {
   "cell_type": "code",
   "execution_count": 13,
   "id": "a0bc71c9-8abb-4ca8-8d7a-73508ec27f8b",
   "metadata": {},
   "outputs": [
    {
     "data": {
      "text/plain": [
       "range(0, 5, 2)"
      ]
     },
     "execution_count": 13,
     "metadata": {},
     "output_type": "execute_result"
    }
   ],
   "source": [
    "range(0,5,2)"
   ]
  },
  {
   "cell_type": "code",
   "execution_count": 14,
   "id": "1cc44291-26b4-4cf5-94d2-5694c24eb8a9",
   "metadata": {},
   "outputs": [
    {
     "data": {
      "text/plain": [
       "[0, 2, 4]"
      ]
     },
     "execution_count": 14,
     "metadata": {},
     "output_type": "execute_result"
    }
   ],
   "source": [
    "list(range(0,5,2))"
   ]
  },
  {
   "cell_type": "code",
   "execution_count": 15,
   "id": "f445650c-de61-48d1-809c-727c97c454b2",
   "metadata": {},
   "outputs": [
    {
     "data": {
      "text/plain": [
       "[20, 19, 18, 17, 16, 15, 14, 13, 12, 11, 10, 9, 8, 7, 6, 5, 4, 3]"
      ]
     },
     "execution_count": 15,
     "metadata": {},
     "output_type": "execute_result"
    }
   ],
   "source": [
    "list(range(20,2,-1))"
   ]
  },
  {
   "cell_type": "code",
   "execution_count": 16,
   "id": "3e6f4325-d8b1-49bf-a1bf-792581a604f6",
   "metadata": {},
   "outputs": [
    {
     "data": {
      "text/plain": [
       "4"
      ]
     },
     "execution_count": 16,
     "metadata": {},
     "output_type": "execute_result"
    }
   ],
   "source": [
    "len(l1)"
   ]
  },
  {
   "cell_type": "code",
   "execution_count": 19,
   "id": "86298331-0975-4a1d-8ea3-357ef605b3c1",
   "metadata": {},
   "outputs": [
    {
     "data": {
      "text/plain": [
       "[-10, -9, -8, -7, -6, -5, -4, -3, -2, -1]"
      ]
     },
     "execution_count": 19,
     "metadata": {},
     "output_type": "execute_result"
    }
   ],
   "source": [
    "list(range(-10,0))"
   ]
  },
  {
   "cell_type": "code",
   "execution_count": 22,
   "id": "c78d1754-f452-480d-86cb-492169dc77ca",
   "metadata": {},
   "outputs": [
    {
     "data": {
      "text/plain": [
       "[0, 1, 2, 3]"
      ]
     },
     "execution_count": 22,
     "metadata": {},
     "output_type": "execute_result"
    }
   ],
   "source": [
    "list(range(len(l1)))"
   ]
  },
  {
   "cell_type": "code",
   "execution_count": 25,
   "id": "92ce3701-ebf3-4f51-a872-606000b90133",
   "metadata": {},
   "outputs": [
    {
     "name": "stdout",
     "output_type": "stream",
     "text": [
      "shalini\n",
      "maurya\n",
      "bittu\n",
      "shivendra\n"
     ]
    }
   ],
   "source": [
    "for i in range(len(l1)):\n",
    "    print(l1[i])\n"
   ]
  },
  {
   "cell_type": "code",
   "execution_count": 28,
   "id": "049aa67b-1f41-409d-a745-9ec9d32dbffa",
   "metadata": {},
   "outputs": [
    {
     "name": "stdout",
     "output_type": "stream",
     "text": [
      "shivendra\n",
      "bittu\n",
      "maurya\n",
      "shalini\n"
     ]
    }
   ],
   "source": [
    "for i in range(len(l1)-1,-1,-1):\n",
    "    print(l1[i])\n"
   ]
  },
  {
   "cell_type": "code",
   "execution_count": 27,
   "id": "9e170190-e539-46ec-a928-80aa8308b11b",
   "metadata": {},
   "outputs": [
    {
     "data": {
      "text/plain": [
       "[4, 3, 2, 1]"
      ]
     },
     "execution_count": 27,
     "metadata": {},
     "output_type": "execute_result"
    }
   ],
   "source": [
    "list(range(len(l1),0,-1))"
   ]
  },
  {
   "cell_type": "code",
   "execution_count": 29,
   "id": "eefae58e-71e7-4734-a673-2c1b5696c202",
   "metadata": {},
   "outputs": [
    {
     "data": {
      "text/plain": [
       "[3, 2, 1, 0]"
      ]
     },
     "execution_count": 29,
     "metadata": {},
     "output_type": "execute_result"
    }
   ],
   "source": [
    "list(range(len(l1)-1,-1,-1))"
   ]
  },
  {
   "cell_type": "code",
   "execution_count": 30,
   "id": "1b244599-cbf3-4138-9f3c-8e304d0c0ddb",
   "metadata": {},
   "outputs": [
    {
     "name": "stdout",
     "output_type": "stream",
     "text": [
      "shivendra\n",
      "bittu\n",
      "maurya\n",
      "shalini\n"
     ]
    }
   ],
   "source": [
    "for i in range(len(l1)-1,-1,-1):\n",
    "    print(l1[i])\n"
   ]
  },
  {
   "cell_type": "code",
   "execution_count": 2,
   "id": "3e5afe3e-52a3-4a01-8d55-1cecbeff4904",
   "metadata": {},
   "outputs": [],
   "source": [
    "l2=[23,56,78,89,64,67,2,8,9,3,4,2,76,73,74,53]"
   ]
  },
  {
   "cell_type": "code",
   "execution_count": 4,
   "id": "e825daeb-02a7-4408-b0b5-103678f2158c",
   "metadata": {},
   "outputs": [
    {
     "data": {
      "text/plain": [
       "[0, 2, 4, 6, 8, 10, 12, 14]"
      ]
     },
     "execution_count": 4,
     "metadata": {},
     "output_type": "execute_result"
    }
   ],
   "source": [
    "list(range(0,len(l2),2))"
   ]
  },
  {
   "cell_type": "code",
   "execution_count": 5,
   "id": "957a17dc-5fcb-438d-bbd9-7b016cfe756d",
   "metadata": {},
   "outputs": [
    {
     "name": "stdout",
     "output_type": "stream",
     "text": [
      "23\n",
      "78\n",
      "64\n",
      "2\n",
      "9\n",
      "4\n",
      "76\n",
      "74\n"
     ]
    }
   ],
   "source": [
    "for i in range(0,len(l2),2):\n",
    "    print(l2[i])"
   ]
  },
  {
   "cell_type": "code",
   "execution_count": 7,
   "id": "d78802c2-a918-4f7a-b386-228ea42f1a2b",
   "metadata": {},
   "outputs": [
    {
     "data": {
      "text/plain": [
       "681"
      ]
     },
     "execution_count": 7,
     "metadata": {},
     "output_type": "execute_result"
    }
   ],
   "source": [
    "sum(l2)  #sum of number considerd in list"
   ]
  },
  {
   "cell_type": "code",
   "execution_count": 12,
   "id": "2ebafad0-404d-49c9-b989-44642e1bae89",
   "metadata": {},
   "outputs": [
    {
     "data": {
      "text/plain": [
       "681"
      ]
     },
     "execution_count": 12,
     "metadata": {},
     "output_type": "execute_result"
    }
   ],
   "source": [
    "l2=[23,56,78,89,64,67,2,8,9,3,4,2,76,73,74,53]\n",
    "result=0\n",
    "for i in l2:\n",
    "    result=result+i\n",
    "result"
   ]
  },
  {
   "cell_type": "code",
   "execution_count": 13,
   "id": "422b9804-c7ed-4ab4-bcae-b8f8d0ec8918",
   "metadata": {},
   "outputs": [
    {
     "name": "stdout",
     "output_type": "stream",
     "text": [
      "2\n",
      "5\n",
      "6\n",
      "7\n",
      "shalini\n",
      "maurya\n"
     ]
    }
   ],
   "source": [
    "s={ 2,5,6,7,\"shalini\",\"maurya\"}\n",
    "for i in s:\n",
    "    print(i)"
   ]
  },
  {
   "cell_type": "code",
   "execution_count": 14,
   "id": "186a6aaa-442e-4a66-a2c8-b0e64295802a",
   "metadata": {},
   "outputs": [],
   "source": [
    "d={\"name\":\"shalini\",\"class\":\"data science\",\"topic\":[\"python\",\"ml\",\"dl\",\"cv\",\"nlp\",\"resume\",\"interview\"]}"
   ]
  },
  {
   "cell_type": "code",
   "execution_count": 15,
   "id": "02467222-d35a-48bb-aa6c-d68d8fb50041",
   "metadata": {},
   "outputs": [
    {
     "data": {
      "text/plain": [
       "{'name': 'shalini',\n",
       " 'class': 'data science',\n",
       " 'topic': ['python', 'ml', 'dl', 'cv', 'nlp', 'resume', 'interview']}"
      ]
     },
     "execution_count": 15,
     "metadata": {},
     "output_type": "execute_result"
    }
   ],
   "source": [
    "d"
   ]
  },
  {
   "cell_type": "code",
   "execution_count": 16,
   "id": "b4652f86-843a-4701-a08e-81dfe2e3a03f",
   "metadata": {},
   "outputs": [
    {
     "data": {
      "text/plain": [
       "dict_keys(['name', 'class', 'topic'])"
      ]
     },
     "execution_count": 16,
     "metadata": {},
     "output_type": "execute_result"
    }
   ],
   "source": [
    "d.keys()"
   ]
  },
  {
   "cell_type": "code",
   "execution_count": 17,
   "id": "ea9c114b-321b-4855-90ab-3f220ca62d48",
   "metadata": {},
   "outputs": [
    {
     "name": "stdout",
     "output_type": "stream",
     "text": [
      "shalini\n",
      "data science\n",
      "['python', 'ml', 'dl', 'cv', 'nlp', 'resume', 'interview']\n"
     ]
    }
   ],
   "source": [
    "for i in d.keys():\n",
    "    print(d[i])"
   ]
  },
  {
   "cell_type": "code",
   "execution_count": 18,
   "id": "f613ad03-2be7-49cc-8215-d768f0da28b0",
   "metadata": {},
   "outputs": [
    {
     "data": {
      "text/plain": [
       "dict_values(['shalini', 'data science', ['python', 'ml', 'dl', 'cv', 'nlp', 'resume', 'interview']])"
      ]
     },
     "execution_count": 18,
     "metadata": {},
     "output_type": "execute_result"
    }
   ],
   "source": [
    "d.values()"
   ]
  },
  {
   "cell_type": "code",
   "execution_count": 20,
   "id": "56c7a00a-1f59-4d7a-bda9-68176958490d",
   "metadata": {},
   "outputs": [
    {
     "name": "stdout",
     "output_type": "stream",
     "text": [
      "shalini\n",
      "data science\n",
      "['python', 'ml', 'dl', 'cv', 'nlp', 'resume', 'interview']\n"
     ]
    }
   ],
   "source": [
    "for i in d.values():\n",
    "    print(i)"
   ]
  },
  {
   "cell_type": "code",
   "execution_count": 21,
   "id": "49417f35-59e4-4db1-8f47-6732e0911ca5",
   "metadata": {},
   "outputs": [
    {
     "data": {
      "text/plain": [
       "dict_items([('name', 'shalini'), ('class', 'data science'), ('topic', ['python', 'ml', 'dl', 'cv', 'nlp', 'resume', 'interview'])])"
      ]
     },
     "execution_count": 21,
     "metadata": {},
     "output_type": "execute_result"
    }
   ],
   "source": [
    "d.items()"
   ]
  },
  {
   "cell_type": "code",
   "execution_count": 22,
   "id": "6f884635-64ee-4bae-ae25-275fdbd0852e",
   "metadata": {},
   "outputs": [
    {
     "name": "stdout",
     "output_type": "stream",
     "text": [
      "('name', 'shalini')\n",
      "('class', 'data science')\n",
      "('topic', ['python', 'ml', 'dl', 'cv', 'nlp', 'resume', 'interview'])\n"
     ]
    }
   ],
   "source": [
    "for i in d.items():\n",
    "    print(i)"
   ]
  },
  {
   "cell_type": "code",
   "execution_count": null,
   "id": "0a26a6b3-b33d-4a9c-b0c6-73db1c2ce41a",
   "metadata": {},
   "outputs": [],
   "source": []
  }
 ],
 "metadata": {
  "kernelspec": {
   "display_name": "Python 3 (ipykernel)",
   "language": "python",
   "name": "python3"
  },
  "language_info": {
   "codemirror_mode": {
    "name": "ipython",
    "version": 3
   },
   "file_extension": ".py",
   "mimetype": "text/x-python",
   "name": "python",
   "nbconvert_exporter": "python",
   "pygments_lexer": "ipython3",
   "version": "3.13.1"
  }
 },
 "nbformat": 4,
 "nbformat_minor": 5
}
