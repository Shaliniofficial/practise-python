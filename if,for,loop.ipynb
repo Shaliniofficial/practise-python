{
 "cells": [
  {
   "cell_type": "code",
   "execution_count": 4,
   "id": "f2098f32-2d74-420e-ba51-f17a9e35a850",
   "metadata": {},
   "outputs": [
    {
     "name": "stdout",
     "output_type": "stream",
     "text": [
      "you will be a part of A1 batch\n"
     ]
    }
   ],
   "source": [
    "marks=65\n",
    "if marks>=80:\n",
    "    print(\"you will be apart of A0 batch\")\n",
    "elif marks>=60 and marks<80:\n",
    "    print(\"you will be a part of A1 batch\")\n",
    "elif marks>= 40 and marks<60:\n",
    "    print(\"you will be a part of A2 batch\")\n",
    "else :\n",
    "    print(\"you will be apart of A3 batch\")"
   ]
  },
  {
   "cell_type": "code",
   "execution_count": 5,
   "id": "85f93eb2-5585-4548-9f83-5d824f1c77ff",
   "metadata": {},
   "outputs": [
    {
     "name": "stdout",
     "output_type": "stream",
     "text": [
      "you will be apart of A3 batch\n"
     ]
    }
   ],
   "source": [
    "marks=-65789\n",
    "if marks>=80:\n",
    "    print(\"you will be apart of A0 batch\")\n",
    "elif marks>=60 and marks<80:\n",
    "    print(\"you will be a part of A1 batch\")\n",
    "elif marks>= 40 and marks<60:\n",
    "    print(\"you will be a part of A2 batch\")\n",
    "else :\n",
    "    print(\"you will be apart of A3 batch\")"
   ]
  },
  {
   "cell_type": "code",
   "execution_count": 8,
   "id": "8b9cca8c-9258-43c0-b305-d7c983b010d6",
   "metadata": {},
   "outputs": [
    {
     "name": "stdin",
     "output_type": "stream",
     "text": [
      "enter your marks 45\n"
     ]
    },
    {
     "name": "stdout",
     "output_type": "stream",
     "text": [
      "you will be a part of A2 batch\n"
     ]
    }
   ],
   "source": [
    "marks=int(input(\"enter your marks\"))\n",
    "if marks>=80:\n",
    "    print(\"you will be apart of A0 batch\")\n",
    "elif marks>=60 and marks<80:\n",
    "    print(\"you will be a part of A1 batch\")\n",
    "elif marks>= 40 and marks<60:\n",
    "    print(\"you will be a part of A2 batch\")\n",
    "else :\n",
    "    print(\"you will be apart of A3 batch\")"
   ]
  },
  {
   "cell_type": "code",
   "execution_count": 11,
   "id": "59ce9a20-0dc4-420e-828d-0a7b2f55dc65",
   "metadata": {},
   "outputs": [
    {
     "name": "stdin",
     "output_type": "stream",
     "text": [
      "enter price 6000\n"
     ]
    },
    {
     "name": "stdout",
     "output_type": "stream",
     "text": [
      "i will not purchase\n"
     ]
    }
   ],
   "source": [
    "price= int(input(\"enter price\"))\n",
    "if price>5000:\n",
    "    print(\"i will not purchase\")\n",
    "else:\n",
    "    print(\"i will purchase\")"
   ]
  },
  {
   "cell_type": "code",
   "execution_count": 15,
   "id": "d4b407cc-b79e-4491-86c0-c1dbc1d12fb0",
   "metadata": {},
   "outputs": [
    {
     "name": "stdin",
     "output_type": "stream",
     "text": [
      "enter price 3000\n"
     ]
    },
    {
     "name": "stdout",
     "output_type": "stream",
     "text": [
      "i will purchase\n"
     ]
    }
   ],
   "source": [
    "price= int(input(\"enter price\"))\n",
    "if price>5000:\n",
    "    print(\"i will not purchase\")\n",
    "    if price>7000:\n",
    "        print(\"this is too much\")\n",
    "    elif price<4000:\n",
    "        print(\"its ok\")\n",
    "elif price<4500:\n",
    "    print(\"i will purchase\")"
   ]
  },
  {
   "cell_type": "code",
   "execution_count": 2,
   "id": "3d09ded9-83bb-4a1f-868e-21a654d25479",
   "metadata": {},
   "outputs": [
    {
     "name": "stdin",
     "output_type": "stream",
     "text": [
      "enter price 700\n"
     ]
    },
    {
     "name": "stdout",
     "output_type": "stream",
     "text": [
      "i will purchase\n",
      "i will not purchase\n"
     ]
    }
   ],
   "source": [
    "price= int(input(\"enter price\"))\n",
    "if price>5000:\n",
    "    print(\"i will not purchase\")\n",
    "    if price>7000:\n",
    "        print(\"this is too much\")\n",
    "    elif price<4000:\n",
    "        print(\"its ok\")\n",
    "elif price<4500:\n",
    "    print(\"i will purchase\")\n",
    "    print(\"i will not purchase\")\n",
    "    if price >5100:\n",
    "        print(\"this is jada ho gya\")\n",
    "    elif price<600:\n",
    "        print(\"ok ok\")\n",
    "else:\n",
    "    print(\"not intrested\")\n",
    "    print(\"i will not purchase\")\n",
    "    if price>5200:\n",
    "        print(\"toooo much\")\n",
    "    elif price<1000:\n",
    "        print(\"maza agya\")"
   ]
  },
  {
   "cell_type": "code",
   "execution_count": 4,
   "id": "0ca69eea-cdb1-4dd8-a860-22c7d8f274ea",
   "metadata": {},
   "outputs": [],
   "source": [
    "l=[8,7,6,5,4,3,2]"
   ]
  },
  {
   "cell_type": "code",
   "execution_count": 5,
   "id": "115a0b07-db6e-4bd9-90c7-8c296555577d",
   "metadata": {},
   "outputs": [
    {
     "data": {
      "text/plain": [
       "9"
      ]
     },
     "execution_count": 5,
     "metadata": {},
     "output_type": "execute_result"
    }
   ],
   "source": [
    "l[0] +1"
   ]
  },
  {
   "cell_type": "code",
   "execution_count": 11,
   "id": "3dd2e1da-1a8f-406b-8d94-f0a7307acddf",
   "metadata": {},
   "outputs": [],
   "source": [
    "l1 =[]"
   ]
  },
  {
   "cell_type": "code",
   "execution_count": 12,
   "id": "f9773085-16bd-462a-b167-fb6437a260e0",
   "metadata": {},
   "outputs": [],
   "source": [
    "l1.append(l[0] +1)"
   ]
  },
  {
   "cell_type": "code",
   "execution_count": 13,
   "id": "be0be5cc-8831-454a-a582-e50af12a3d53",
   "metadata": {},
   "outputs": [
    {
     "data": {
      "text/plain": [
       "[9, 9]"
      ]
     },
     "execution_count": 13,
     "metadata": {},
     "output_type": "execute_result"
    }
   ],
   "source": [
    "l1"
   ]
  },
  {
   "cell_type": "code",
   "execution_count": 14,
   "id": "40d39134-16db-4b7b-a33b-19adcfc2d1ad",
   "metadata": {},
   "outputs": [
    {
     "name": "stdout",
     "output_type": "stream",
     "text": [
      "1\n",
      "2\n",
      "3\n",
      "4\n",
      "5\n",
      "6\n",
      "7\n",
      "8\n"
     ]
    }
   ],
   "source": [
    "l=[1,2,3,4,5,6,7,8]\n",
    "for i in l:\n",
    "    print(i)"
   ]
  },
  {
   "cell_type": "code",
   "execution_count": 15,
   "id": "95c2d9d2-0e1d-4dff-8ce2-f4431b240930",
   "metadata": {},
   "outputs": [
    {
     "name": "stdout",
     "output_type": "stream",
     "text": [
      "[1, 2, 3, 4, 5, 6, 7, 8]\n",
      "[1, 2, 3, 4, 5, 6, 7, 8]\n",
      "[1, 2, 3, 4, 5, 6, 7, 8]\n",
      "[1, 2, 3, 4, 5, 6, 7, 8]\n",
      "[1, 2, 3, 4, 5, 6, 7, 8]\n",
      "[1, 2, 3, 4, 5, 6, 7, 8]\n",
      "[1, 2, 3, 4, 5, 6, 7, 8]\n",
      "[1, 2, 3, 4, 5, 6, 7, 8]\n"
     ]
    }
   ],
   "source": [
    "l=[1,2,3,4,5,6,7,8]\n",
    "for i in l:\n",
    "    print(l)"
   ]
  },
  {
   "cell_type": "code",
   "execution_count": null,
   "id": "311040e8-50d9-494f-be15-7e762ae50870",
   "metadata": {},
   "outputs": [],
   "source": [
    "//outcome as a list (add one in list)"
   ]
  },
  {
   "cell_type": "code",
   "execution_count": 18,
   "id": "79e2b433-c941-4a0b-aae5-ae36712c540d",
   "metadata": {},
   "outputs": [
    {
     "name": "stdout",
     "output_type": "stream",
     "text": [
      "2\n",
      "3\n",
      "4\n",
      "5\n",
      "6\n",
      "7\n",
      "8\n",
      "9\n"
     ]
    },
    {
     "data": {
      "text/plain": [
       "[2, 3, 4, 5, 6, 7, 8, 9]"
      ]
     },
     "execution_count": 18,
     "metadata": {},
     "output_type": "execute_result"
    }
   ],
   "source": [
    "l=[1,2,3,4,5,6,7,8]\n",
    "l1=[]\n",
    "for i in l:\n",
    "    print(i+1)\n",
    "    l1.append(i+1)\n",
    "l1    "
   ]
  },
  {
   "cell_type": "code",
   "execution_count": 20,
   "id": "bf76197c-b99e-4b2e-b353-94927c98320e",
   "metadata": {},
   "outputs": [
    {
     "name": "stdout",
     "output_type": "stream",
     "text": [
      "shalini\n",
      "maurya\n",
      "gniot\n"
     ]
    }
   ],
   "source": [
    "l=[\"shalini\",\"maurya\",\"gniot\"]\n",
    "l1=[]\n",
    "for i in l:\n",
    "    print(i)\n",
    "    l1.append(i.upper())"
   ]
  },
  {
   "cell_type": "code",
   "execution_count": 21,
   "id": "790863d1-2083-4122-a62d-07d072b87e48",
   "metadata": {},
   "outputs": [
    {
     "data": {
      "text/plain": [
       "['SHALINI', 'MAURYA', 'GNIOT']"
      ]
     },
     "execution_count": 21,
     "metadata": {},
     "output_type": "execute_result"
    }
   ],
   "source": [
    "l1"
   ]
  },
  {
   "cell_type": "code",
   "execution_count": 7,
   "id": "de8c4636-9b27-48dd-a3e0-249dfdbfb92b",
   "metadata": {},
   "outputs": [],
   "source": [
    "\n",
    "l=[1,\"shalini\",567,\"maurya\",\"kittu\",78,23,45,\"acc\"]\n",
    "l1_num =[]\n",
    "l2_str =[]\n",
    "for i in l:\n",
    " if type(i) ==int or type(i)== float :\n",
    "     l1_num.append(i)\n",
    " else :\n",
    "     l2_str.append(i)\n",
    "\n",
    "\n",
    "\n"
   ]
  },
  {
   "cell_type": "code",
   "execution_count": 8,
   "id": "01ef24a4-b3f4-478b-8253-637f482e54d7",
   "metadata": {},
   "outputs": [
    {
     "data": {
      "text/plain": [
       "[1, 567, 78, 23, 45]"
      ]
     },
     "execution_count": 8,
     "metadata": {},
     "output_type": "execute_result"
    }
   ],
   "source": [
    "l1_num"
   ]
  },
  {
   "cell_type": "code",
   "execution_count": 10,
   "id": "ee2e8d43-89d8-4eeb-9be7-5eabe12fb963",
   "metadata": {},
   "outputs": [
    {
     "data": {
      "text/plain": [
       "['shalini', 'maurya', 'kittu', 'acc']"
      ]
     },
     "execution_count": 10,
     "metadata": {},
     "output_type": "execute_result"
    }
   ],
   "source": [
    "l2_str\n"
   ]
  },
  {
   "cell_type": "code",
   "execution_count": null,
   "id": "2c701ee7-9fe1-42ea-b58b-d0f9ce4ca4d9",
   "metadata": {},
   "outputs": [],
   "source": []
  },
  {
   "cell_type": "code",
   "execution_count": null,
   "id": "59e9eede-28d0-4613-84d9-00dfc4fd4354",
   "metadata": {},
   "outputs": [],
   "source": []
  },
  {
   "cell_type": "code",
   "execution_count": null,
   "id": "720fb276-7a09-466b-951a-2391cef1f822",
   "metadata": {},
   "outputs": [],
   "source": []
  },
  {
   "cell_type": "code",
   "execution_count": null,
   "id": "dec102f5-a552-4e1e-8f48-0c9d72f6fb83",
   "metadata": {},
   "outputs": [],
   "source": []
  },
  {
   "cell_type": "code",
   "execution_count": null,
   "id": "dda41bf0-4283-445f-8948-164ded4c22ab",
   "metadata": {},
   "outputs": [],
   "source": []
  }
 ],
 "metadata": {
  "kernelspec": {
   "display_name": "Python 3 (ipykernel)",
   "language": "python",
   "name": "python3"
  },
  "language_info": {
   "codemirror_mode": {
    "name": "ipython",
    "version": 3
   },
   "file_extension": ".py",
   "mimetype": "text/x-python",
   "name": "python",
   "nbconvert_exporter": "python",
   "pygments_lexer": "ipython3",
   "version": "3.13.1"
  }
 },
 "nbformat": 4,
 "nbformat_minor": 5
}
