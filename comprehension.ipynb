{
 "cells": [
  {
   "cell_type": "code",
   "execution_count": 5,
   "id": "dbfd40ea-0883-402c-83f6-0787c8e36b8f",
   "metadata": {},
   "outputs": [
    {
     "data": {
      "text/plain": [
       "[1, 4, 9, 16, 25, 36, 49]"
      ]
     },
     "execution_count": 5,
     "metadata": {},
     "output_type": "execute_result"
    }
   ],
   "source": [
    "l=[1,2,3,4,5,6,7]\n",
    "l1=[]\n",
    "for i in l:\n",
    "    l1.append(i**2)\n",
    "l1    "
   ]
  },
  {
   "cell_type": "code",
   "execution_count": 6,
   "id": "214410de-37ce-4063-bd7c-156955ee035a",
   "metadata": {},
   "outputs": [
    {
     "data": {
      "text/plain": [
       "[1, 2, 3, 4, 5, 6, 7]"
      ]
     },
     "execution_count": 6,
     "metadata": {},
     "output_type": "execute_result"
    }
   ],
   "source": [
    "l"
   ]
  },
  {
   "cell_type": "code",
   "execution_count": 7,
   "id": "a6a0b2df-b084-4595-9e9f-fbac89c0b7af",
   "metadata": {},
   "outputs": [
    {
     "data": {
      "text/plain": [
       "[1, 4, 9, 16, 25, 36, 49]"
      ]
     },
     "execution_count": 7,
     "metadata": {},
     "output_type": "execute_result"
    }
   ],
   "source": [
    "l=[1, 2, 3, 4, 5, 6, 7]\n",
    "[i**2 for i in l]"
   ]
  },
  {
   "cell_type": "code",
   "execution_count": 13,
   "id": "a1c1a4dc-d127-4598-b9db-1217c9b05dbc",
   "metadata": {},
   "outputs": [
    {
     "data": {
      "text/plain": [
       "[2, 4, 6]"
      ]
     },
     "execution_count": 13,
     "metadata": {},
     "output_type": "execute_result"
    }
   ],
   "source": [
    "l=[1, 2, 3, 4, 5, 6, 7]\n",
    "[ i for i in l if i%2==0 ]\n"
   ]
  },
  {
   "cell_type": "code",
   "execution_count": null,
   "id": "764529ee-460c-4251-81d4-03aefc93a86d",
   "metadata": {},
   "outputs": [],
   "source": []
  }
 ],
 "metadata": {
  "kernelspec": {
   "display_name": "Python 3 (ipykernel)",
   "language": "python",
   "name": "python3"
  },
  "language_info": {
   "codemirror_mode": {
    "name": "ipython",
    "version": 3
   },
   "file_extension": ".py",
   "mimetype": "text/x-python",
   "name": "python",
   "nbconvert_exporter": "python",
   "pygments_lexer": "ipython3",
   "version": "3.13.1"
  }
 },
 "nbformat": 4,
 "nbformat_minor": 5
}
