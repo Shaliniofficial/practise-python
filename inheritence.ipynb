{
 "cells": [
  {
   "cell_type": "code",
   "execution_count": 1,
   "id": "e39db17d-3564-4389-99c6-78234d9a5e70",
   "metadata": {},
   "outputs": [
    {
     "data": {
      "text/plain": [
       "'this is my 5th class'"
      ]
     },
     "execution_count": 1,
     "metadata": {},
     "output_type": "execute_result"
    }
   ],
   "source": [
    "class test:\n",
    "    def test_math(self):\n",
    "        return\"this is my 5th class\"\n",
    "class my_test(test):\n",
    "    pass\n",
    "my_test_obj=my_test()\n",
    "my_test_obj.test_math()"
   ]
  },
  {
   "cell_type": "code",
   "execution_count": 16,
   "id": "e2e60dab-5cab-47bb-b6c8-76eea49d9703",
   "metadata": {},
   "outputs": [],
   "source": [
    "# multilevel inheritence\n"
   ]
  },
  {
   "cell_type": "code",
   "execution_count": 8,
   "id": "f7e5cd40-caf6-4b64-b14d-28f559cff70f",
   "metadata": {},
   "outputs": [],
   "source": [
    "class class1:\n",
    "    def test_class1(self):\n",
    "        return \"this is attandance of class1\""
   ]
  },
  {
   "cell_type": "code",
   "execution_count": 9,
   "id": "666a3f4a-90c0-4110-89bc-892602eb2593",
   "metadata": {},
   "outputs": [],
   "source": [
    "class class2(class1):\n",
    "    def test_class2(self):\n",
    "        return \"this is sttendence of class2\""
   ]
  },
  {
   "cell_type": "code",
   "execution_count": 10,
   "id": "8127b437-2c6d-4ca9-aede-2056ac872718",
   "metadata": {},
   "outputs": [],
   "source": [
    "class class3(class2):\n",
    "    pass"
   ]
  },
  {
   "cell_type": "code",
   "execution_count": 11,
   "id": "35b006b2-9fcb-4e30-b516-ef72f36c7567",
   "metadata": {},
   "outputs": [],
   "source": [
    "obj_class3=class3()"
   ]
  },
  {
   "cell_type": "code",
   "execution_count": 12,
   "id": "9dae4ac6-cddd-40b4-aa77-5cf84e94101d",
   "metadata": {},
   "outputs": [
    {
     "data": {
      "text/plain": [
       "'this is attandance of class1'"
      ]
     },
     "execution_count": 12,
     "metadata": {},
     "output_type": "execute_result"
    }
   ],
   "source": [
    "obj_class3.test_class1()"
   ]
  },
  {
   "cell_type": "code",
   "execution_count": 13,
   "id": "6a9594af-f566-45c9-99bf-357203ecdd52",
   "metadata": {},
   "outputs": [
    {
     "data": {
      "text/plain": [
       "'this is sttendence of class2'"
      ]
     },
     "execution_count": 13,
     "metadata": {},
     "output_type": "execute_result"
    }
   ],
   "source": [
    "obj_class3.test_class2()"
   ]
  },
  {
   "cell_type": "code",
   "execution_count": 15,
   "id": "64131442-a721-402d-9b55-23322e045b45",
   "metadata": {},
   "outputs": [],
   "source": [
    "# multiple inheritence"
   ]
  },
  {
   "cell_type": "code",
   "execution_count": 17,
   "id": "e730136b-4545-445f-be0f-1a0a2c02727d",
   "metadata": {},
   "outputs": [],
   "source": [
    "class class1:\n",
    "    def test_class1(self):\n",
    "        return \"this is my class1\""
   ]
  },
  {
   "cell_type": "code",
   "execution_count": 18,
   "id": "afc93975-beef-4418-a68c-d11427f8f473",
   "metadata": {},
   "outputs": [],
   "source": [
    "class class2:\n",
    "    def test_class2(self):\n",
    "        return \"this is my class2\""
   ]
  },
  {
   "cell_type": "code",
   "execution_count": 19,
   "id": "c20d6d71-1621-407b-82a8-5c590ee81ae4",
   "metadata": {},
   "outputs": [],
   "source": [
    "class class3(class1,class2):\n",
    "    pass"
   ]
  },
  {
   "cell_type": "code",
   "execution_count": 20,
   "id": "fa315f02-919a-477a-b9af-a9b648cabe30",
   "metadata": {},
   "outputs": [],
   "source": [
    "obj_class3=class3()"
   ]
  },
  {
   "cell_type": "code",
   "execution_count": 21,
   "id": "a72c0101-1e5c-4390-b573-84172695c8ec",
   "metadata": {},
   "outputs": [
    {
     "data": {
      "text/plain": [
       "'this is my class1'"
      ]
     },
     "execution_count": 21,
     "metadata": {},
     "output_type": "execute_result"
    }
   ],
   "source": [
    "obj_class3.test_class1()"
   ]
  },
  {
   "cell_type": "code",
   "execution_count": 22,
   "id": "a7ba078e-980c-4ced-ba28-472f19a5a0ab",
   "metadata": {},
   "outputs": [
    {
     "data": {
      "text/plain": [
       "'this is my class2'"
      ]
     },
     "execution_count": 22,
     "metadata": {},
     "output_type": "execute_result"
    }
   ],
   "source": [
    "obj_class3.test_class2()"
   ]
  },
  {
   "cell_type": "code",
   "execution_count": null,
   "id": "4a5c5540-c5fb-4f0d-9000-b8bedc7c7e1e",
   "metadata": {},
   "outputs": [],
   "source": []
  }
 ],
 "metadata": {
  "kernelspec": {
   "display_name": "Python 3 (ipykernel)",
   "language": "python",
   "name": "python3"
  },
  "language_info": {
   "codemirror_mode": {
    "name": "ipython",
    "version": 3
   },
   "file_extension": ".py",
   "mimetype": "text/x-python",
   "name": "python",
   "nbconvert_exporter": "python",
   "pygments_lexer": "ipython3",
   "version": "3.13.1"
  }
 },
 "nbformat": 4,
 "nbformat_minor": 5
}
