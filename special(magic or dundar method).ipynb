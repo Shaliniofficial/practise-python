{
 "cells": [
  {
   "cell_type": "code",
   "execution_count": 1,
   "id": "7c511cc3-1bb1-47ad-a0bc-f8f4804e74cd",
   "metadata": {},
   "outputs": [],
   "source": [
    "# magic and dunder function"
   ]
  },
  {
   "cell_type": "code",
   "execution_count": 17,
   "id": "acf117ef-6af0-4892-8f09-cc8129f7a205",
   "metadata": {},
   "outputs": [],
   "source": [
    "class pwskills:\n",
    "    #def __new__(cls):\n",
    "       # print(\"this is my new\")\n",
    "    def __init__(self):\n",
    "        self.mobile_num= 123445567\n",
    "        print(\" this is my init\")\n",
    "    def __str__(self):\n",
    "        return\"this is shslini\"\n",
    "        \n",
    "\n",
    "        \n",
    "   "
   ]
  },
  {
   "cell_type": "code",
   "execution_count": 18,
   "id": "12156161-dce1-408f-952c-ac9929f1fe69",
   "metadata": {},
   "outputs": [
    {
     "name": "stdout",
     "output_type": "stream",
     "text": [
      " this is my init\n"
     ]
    }
   ],
   "source": [
    "pw=pwskills()"
   ]
  },
  {
   "cell_type": "code",
   "execution_count": 19,
   "id": "c61a27f7-41e1-475a-9e1d-74cb959c4060",
   "metadata": {},
   "outputs": [
    {
     "data": {
      "text/plain": [
       "123445567"
      ]
     },
     "execution_count": 19,
     "metadata": {},
     "output_type": "execute_result"
    }
   ],
   "source": [
    "pw.mobile_num"
   ]
  },
  {
   "cell_type": "code",
   "execution_count": 20,
   "id": "3ef36db7-5143-49e4-a30e-8142d2029708",
   "metadata": {},
   "outputs": [
    {
     "data": {
      "text/plain": [
       "<__main__.pwskills at 0x211078fe3c0>"
      ]
     },
     "execution_count": 20,
     "metadata": {},
     "output_type": "execute_result"
    }
   ],
   "source": [
    "pw"
   ]
  },
  {
   "cell_type": "code",
   "execution_count": 21,
   "id": "d925736e-04ab-41fb-ab83-e308cadfd6cc",
   "metadata": {},
   "outputs": [
    {
     "name": "stdout",
     "output_type": "stream",
     "text": [
      "this is shslini\n"
     ]
    }
   ],
   "source": [
    "print(pw)"
   ]
  },
  {
   "cell_type": "code",
   "execution_count": null,
   "id": "13007392-1f53-4cba-863f-d097115f6780",
   "metadata": {},
   "outputs": [],
   "source": []
  }
 ],
 "metadata": {
  "kernelspec": {
   "display_name": "Python 3 (ipykernel)",
   "language": "python",
   "name": "python3"
  },
  "language_info": {
   "codemirror_mode": {
    "name": "ipython",
    "version": 3
   },
   "file_extension": ".py",
   "mimetype": "text/x-python",
   "name": "python",
   "nbconvert_exporter": "python",
   "pygments_lexer": "ipython3",
   "version": "3.13.1"
  }
 },
 "nbformat": 4,
 "nbformat_minor": 5
}
