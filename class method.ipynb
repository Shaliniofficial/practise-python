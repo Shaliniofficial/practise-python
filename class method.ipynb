{
 "cells": [
  {
   "cell_type": "code",
   "execution_count": 3,
   "id": "d582766e-c7b5-454f-aa83-d8e0947ad476",
   "metadata": {},
   "outputs": [],
   "source": [
    "class pwskills:\n",
    "    def __init__(self,name,email):\n",
    "        self.name=name\n",
    "        self.email=email\n",
    "    @classmethod\n",
    "    def details(cls,name,email):\n",
    "        return cls(name,email)\n",
    "    def shaa(self):\n",
    "        print(self.name,self.email)\n",
    "    "
   ]
  },
  {
   "cell_type": "code",
   "execution_count": 5,
   "id": "b734ddf5-d75c-483e-bc19-f5bf7362845c",
   "metadata": {},
   "outputs": [],
   "source": [
    " pw1=pwskills.details(\"shalini\",\"gamil.com\")"
   ]
  },
  {
   "cell_type": "code",
   "execution_count": 6,
   "id": "28fff9a6-9b1b-42ee-aeac-9b676c9ba50f",
   "metadata": {},
   "outputs": [
    {
     "data": {
      "text/plain": [
       "'shalini'"
      ]
     },
     "execution_count": 6,
     "metadata": {},
     "output_type": "execute_result"
    }
   ],
   "source": [
    "pw1.name"
   ]
  },
  {
   "cell_type": "code",
   "execution_count": 7,
   "id": "694502e6-0de5-4e1d-a5d9-44ead6baf387",
   "metadata": {},
   "outputs": [
    {
     "data": {
      "text/plain": [
       "'gamil.com'"
      ]
     },
     "execution_count": 7,
     "metadata": {},
     "output_type": "execute_result"
    }
   ],
   "source": [
    "pw1.email"
   ]
  },
  {
   "cell_type": "code",
   "execution_count": 29,
   "id": "1d66b079-f68d-4798-a418-5f45a20aa64d",
   "metadata": {},
   "outputs": [],
   "source": [
    "class pwskills2:\n",
    "    mobile_num=12345567889\n",
    "    def __init__(self,name,email):\n",
    "        self.name=name\n",
    "        self.email=email\n",
    "    @classmethod\n",
    "    def change_mobilenumber(cls,mobile):\n",
    "        pwskills2.mobile_num=mobile\n",
    "    @classmethod\n",
    "    def details(cls,name,email):\n",
    "        return cls(name,email)\n",
    "    def shaa(self):\n",
    "        print(self.name,self.email,pwskills2.mobile_num)"
   ]
  },
  {
   "cell_type": "code",
   "execution_count": 30,
   "id": "38977738-55a5-4f58-871a-bfd0a908de9f",
   "metadata": {},
   "outputs": [
    {
     "data": {
      "text/plain": [
       "12345567889"
      ]
     },
     "execution_count": 30,
     "metadata": {},
     "output_type": "execute_result"
    }
   ],
   "source": [
    "pwskills2.mobile_num"
   ]
  },
  {
   "cell_type": "code",
   "execution_count": 31,
   "id": "0ccf6cda-9475-4bd2-8f98-e12cf1e6872c",
   "metadata": {},
   "outputs": [],
   "source": [
    "pwskills2.change_mobilenumber(23784567)"
   ]
  },
  {
   "cell_type": "code",
   "execution_count": 32,
   "id": "43e5ca6c-2a12-436a-bb6f-faa32f9a4b25",
   "metadata": {},
   "outputs": [
    {
     "data": {
      "text/plain": [
       "23784567"
      ]
     },
     "execution_count": 32,
     "metadata": {},
     "output_type": "execute_result"
    }
   ],
   "source": [
    "pwskills2.mobile_num"
   ]
  },
  {
   "cell_type": "code",
   "execution_count": 33,
   "id": "42071bbc-9dd3-423b-88e5-248dc0fa32c7",
   "metadata": {},
   "outputs": [],
   "source": [
    "pw= pwskills.shaa(\"upasna\",\"u@gmail.com\")"
   ]
  },
  {
   "cell_type": "code",
   "execution_count": 35,
   "id": "0b68444e-0a87-4b1b-bde2-5a2c6f770e17",
   "metadata": {},
   "outputs": [
    {
     "name": "stdout",
     "output_type": "stream",
     "text": [
      "upasna u@gmail.com\n"
     ]
    }
   ],
   "source": [
    "pw.shaa()"
   ]
  },
  {
   "cell_type": "code",
   "execution_count": 39,
   "id": "479e1bb4-e47e-4983-8219-9e030c2514c1",
   "metadata": {},
   "outputs": [],
   "source": [
    "def course_details(cls,course_name):\n",
    "    print(\"this is my course\",course_name)"
   ]
  },
  {
   "cell_type": "code",
   "execution_count": 40,
   "id": "1d80fe19-eb79-499c-8419-c76444ae975a",
   "metadata": {},
   "outputs": [],
   "source": [
    "pwskills2.course_deatils=classmethod(course_details)"
   ]
  },
  {
   "cell_type": "code",
   "execution_count": 41,
   "id": "193e34a6-9333-4900-aaef-ccd6f69527ba",
   "metadata": {},
   "outputs": [
    {
     "name": "stdout",
     "output_type": "stream",
     "text": [
      "this is my course data science\n"
     ]
    }
   ],
   "source": [
    "pwskills2.course_deatils(\"data science\")"
   ]
  },
  {
   "cell_type": "code",
   "execution_count": 42,
   "id": "4c225ebd-57de-4433-bbca-a018b262dc3c",
   "metadata": {},
   "outputs": [],
   "source": [
    "class pwskills3:\n",
    "    mobile_num=12345567889\n",
    "    def __init__(self,name,email):\n",
    "        self.name=name\n",
    "        self.email=email\n",
    "    @classmethod\n",
    "    def change_mobilenumber(cls,mobile):\n",
    "        pwskills2.mobile_num=mobile\n",
    "    @classmethod\n",
    "    def details(cls,name,email):\n",
    "        return cls(name,email)\n",
    "    def shaa(self):\n",
    "        print(self.name,self.email,pwskills2.mobile_num)"
   ]
  },
  {
   "cell_type": "code",
   "execution_count": 45,
   "id": "403e031d-b051-485f-89a0-346bfcffe907",
   "metadata": {},
   "outputs": [
    {
     "ename": "AttributeError",
     "evalue": "type object 'pwskills3' has no attribute 'change_mobilenumber'",
     "output_type": "error",
     "traceback": [
      "\u001b[1;31m---------------------------------------------------------------------------\u001b[0m",
      "\u001b[1;31mAttributeError\u001b[0m                            Traceback (most recent call last)",
      "Cell \u001b[1;32mIn[45], line 1\u001b[0m\n\u001b[1;32m----> 1\u001b[0m \u001b[38;5;28;01mdel\u001b[39;00m \u001b[43mpwskills3\u001b[49m\u001b[38;5;241;43m.\u001b[39;49m\u001b[43mchange_mobilenumber\u001b[49m\n",
      "\u001b[1;31mAttributeError\u001b[0m: type object 'pwskills3' has no attribute 'change_mobilenumber'"
     ]
    }
   ],
   "source": [
    "del pwskills3.change_mobilenumber"
   ]
  },
  {
   "cell_type": "code",
   "execution_count": 44,
   "id": "3c1cd0be-213a-4990-9a2a-bfa3cf4ce9ca",
   "metadata": {},
   "outputs": [
    {
     "ename": "AttributeError",
     "evalue": "type object 'pwskills3' has no attribute 'change_mobilenumber'",
     "output_type": "error",
     "traceback": [
      "\u001b[1;31m---------------------------------------------------------------------------\u001b[0m",
      "\u001b[1;31mAttributeError\u001b[0m                            Traceback (most recent call last)",
      "Cell \u001b[1;32mIn[44], line 1\u001b[0m\n\u001b[1;32m----> 1\u001b[0m \u001b[43mpwskills3\u001b[49m\u001b[38;5;241;43m.\u001b[39;49m\u001b[43mchange_mobilenumber\u001b[49m(\u001b[38;5;241m33456786434\u001b[39m)\n",
      "\u001b[1;31mAttributeError\u001b[0m: type object 'pwskills3' has no attribute 'change_mobilenumber'"
     ]
    }
   ],
   "source": [
    "pwskills3.change_mobilenumber(33456786434)"
   ]
  },
  {
   "cell_type": "code",
   "execution_count": 46,
   "id": "577648bd-c67c-4156-89c3-f9d42942e23f",
   "metadata": {},
   "outputs": [],
   "source": [
    "delattr(pwskills3,\"details\")"
   ]
  },
  {
   "cell_type": "code",
   "execution_count": 47,
   "id": "2fac0056-4073-4142-a66d-fe5cbbfb988b",
   "metadata": {},
   "outputs": [],
   "source": [
    "delattr(pwskills3,\"shaa\")"
   ]
  },
  {
   "cell_type": "code",
   "execution_count": 48,
   "id": "b8850592-42e7-4934-a38f-5ddd1f10c3f3",
   "metadata": {},
   "outputs": [],
   "source": [
    "delattr(pwskills3,\"mobile_num\")"
   ]
  },
  {
   "cell_type": "code",
   "execution_count": null,
   "id": "a94707a1-ca45-4643-bd41-28fbb4144527",
   "metadata": {},
   "outputs": [],
   "source": [
    "pwskills3."
   ]
  }
 ],
 "metadata": {
  "kernelspec": {
   "display_name": "Python 3 (ipykernel)",
   "language": "python",
   "name": "python3"
  },
  "language_info": {
   "codemirror_mode": {
    "name": "ipython",
    "version": 3
   },
   "file_extension": ".py",
   "mimetype": "text/x-python",
   "name": "python",
   "nbconvert_exporter": "python",
   "pygments_lexer": "ipython3",
   "version": "3.13.1"
  }
 },
 "nbformat": 4,
 "nbformat_minor": 5
}
