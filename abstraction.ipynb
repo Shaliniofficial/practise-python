{
 "cells": [
  {
   "cell_type": "code",
   "execution_count": 23,
   "id": "2a10d779-7426-43b6-b6c6-393b675e7c18",
   "metadata": {},
   "outputs": [],
   "source": [
    "# abstract class"
   ]
  },
  {
   "cell_type": "code",
   "execution_count": 24,
   "id": "c30ee359-a9d5-47e5-8568-469c6888fcff",
   "metadata": {},
   "outputs": [],
   "source": [
    "import abc\n",
    "class pwskills:\n",
    "    @abc.abstractmethod\n",
    "    def student_details(self):\n",
    "        pass\n",
    "    @abc.abstractmethod\n",
    "    def student_assigments(self):\n",
    "        pass    \n",
    "    @abc.abstractmethod\n",
    "    def student_marks(self):\n",
    "        pass     "
   ]
  },
  {
   "cell_type": "code",
   "execution_count": 25,
   "id": "b62e2ea6-d18b-4be2-bf8f-59fc3f045a9e",
   "metadata": {},
   "outputs": [],
   "source": [
    "class student_details(pwskills):\n",
    "    def student_details(self):\n",
    "        return \"this is method for tsking student details\"\n",
    "    def student_assigments(self):\n",
    "        return \"this is method for tsking student details\"\n",
    "    \n",
    "        "
   ]
  },
  {
   "cell_type": "code",
   "execution_count": 29,
   "id": "8d05f22f-b81f-41e9-b3ae-c8ee6122c147",
   "metadata": {},
   "outputs": [],
   "source": [
    "class masters_class(pwskills):\n",
    "    def student_details(self):\n",
    "        return \"this is method for tsking student details for masters class\"\n",
    "    def student_assigments(self):\n",
    "        return \"this is method for tsking student assigment for masters class\"\n",
    "    "
   ]
  },
  {
   "cell_type": "code",
   "execution_count": 30,
   "id": "3d511a89-16b6-43b4-a1e5-3c504478433c",
   "metadata": {},
   "outputs": [
    {
     "data": {
      "text/plain": [
       "'this is method for tsking student details for masters class'"
      ]
     },
     "execution_count": 30,
     "metadata": {},
     "output_type": "execute_result"
    }
   ],
   "source": [
    "sm=masters_class()\n",
    "sm.student_details()"
   ]
  },
  {
   "cell_type": "code",
   "execution_count": 32,
   "id": "7552af92-afe3-43c6-83f5-415feaba2eae",
   "metadata": {},
   "outputs": [
    {
     "data": {
      "text/plain": [
       "'this is method for tsking student assigment for masters class'"
      ]
     },
     "execution_count": 32,
     "metadata": {},
     "output_type": "execute_result"
    }
   ],
   "source": [
    "sm=masters_class()\n",
    "sm.student_assigments()"
   ]
  },
  {
   "cell_type": "code",
   "execution_count": 33,
   "id": "151cbc77-ca46-4500-9b78-904cf2f38ec0",
   "metadata": {},
   "outputs": [
    {
     "data": {
      "text/plain": [
       "'this is method for tsking student details'"
      ]
     },
     "execution_count": 33,
     "metadata": {},
     "output_type": "execute_result"
    }
   ],
   "source": [
    "sd=student_details()\n",
    "sd.student_details()"
   ]
  },
  {
   "cell_type": "code",
   "execution_count": 34,
   "id": "e586eb52-1062-488a-8e5c-0837186f9b77",
   "metadata": {},
   "outputs": [
    {
     "data": {
      "text/plain": [
       "'this is method for tsking student details'"
      ]
     },
     "execution_count": 34,
     "metadata": {},
     "output_type": "execute_result"
    }
   ],
   "source": [
    "sd=student_details()\n",
    "sd.student_assigments()"
   ]
  },
  {
   "cell_type": "code",
   "execution_count": 35,
   "id": "3645263f-50f6-45b1-815c-5d3be19bc344",
   "metadata": {},
   "outputs": [],
   "source": [
    "sd=student_details()\n",
    "sd.student_marks()"
   ]
  },
  {
   "cell_type": "code",
   "execution_count": null,
   "id": "654f1908-dba4-4c03-a8aa-8d1b7069842c",
   "metadata": {},
   "outputs": [],
   "source": []
  }
 ],
 "metadata": {
  "kernelspec": {
   "display_name": "Python 3 (ipykernel)",
   "language": "python",
   "name": "python3"
  },
  "language_info": {
   "codemirror_mode": {
    "name": "ipython",
    "version": 3
   },
   "file_extension": ".py",
   "mimetype": "text/x-python",
   "name": "python",
   "nbconvert_exporter": "python",
   "pygments_lexer": "ipython3",
   "version": "3.13.1"
  }
 },
 "nbformat": 4,
 "nbformat_minor": 5
}
