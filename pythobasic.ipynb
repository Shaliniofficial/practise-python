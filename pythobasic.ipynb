{
 "cells": [
  {
   "cell_type": "code",
   "execution_count": 4,
   "id": "4f849473-b5fd-44a4-b6c0-17fb5a0c2aee",
   "metadata": {},
   "outputs": [],
   "source": [
    "l=[1,345,45,\"sudh\",True,5+7j,345.456]"
   ]
  },
  {
   "cell_type": "code",
   "execution_count": 5,
   "id": "891675e9-d4df-430f-a47d-ccd67232d3fe",
   "metadata": {},
   "outputs": [
    {
     "data": {
      "text/plain": [
       "list"
      ]
     },
     "execution_count": 5,
     "metadata": {},
     "output_type": "execute_result"
    }
   ],
   "source": [
    "type(l)"
   ]
  },
  {
   "cell_type": "code",
   "execution_count": 7,
   "id": "63a9fa94-c027-4d78-8361-d140adc3904e",
   "metadata": {},
   "outputs": [
    {
     "data": {
      "text/plain": [
       "'sudh'"
      ]
     },
     "execution_count": 7,
     "metadata": {},
     "output_type": "execute_result"
    }
   ],
   "source": [
    "l[3]"
   ]
  },
  {
   "cell_type": "code",
   "execution_count": 8,
   "id": "e9dbe802-9e74-4bda-b706-bbb510d25f9e",
   "metadata": {},
   "outputs": [
    {
     "data": {
      "text/plain": [
       "345.456"
      ]
     },
     "execution_count": 8,
     "metadata": {},
     "output_type": "execute_result"
    }
   ],
   "source": [
    "l[6]"
   ]
  },
  {
   "cell_type": "code",
   "execution_count": 9,
   "id": "e60c62a1-5aeb-4d28-a8d8-b4d7a8f92c92",
   "metadata": {},
   "outputs": [
    {
     "ename": "IndexError",
     "evalue": "list index out of range",
     "output_type": "error",
     "traceback": [
      "\u001b[1;31m---------------------------------------------------------------------------\u001b[0m",
      "\u001b[1;31mIndexError\u001b[0m                                Traceback (most recent call last)",
      "Cell \u001b[1;32mIn[9], line 1\u001b[0m\n\u001b[1;32m----> 1\u001b[0m \u001b[43ml\u001b[49m\u001b[43m[\u001b[49m\u001b[38;5;241;43m90\u001b[39;49m\u001b[43m]\u001b[49m\n",
      "\u001b[1;31mIndexError\u001b[0m: list index out of range"
     ]
    }
   ],
   "source": [
    " l[90]"
   ]
  },
  {
   "cell_type": "code",
   "execution_count": 11,
   "id": "a0a61b7a-0f37-4a71-b603-1ced60671131",
   "metadata": {},
   "outputs": [
    {
     "data": {
      "text/plain": [
       "[1, 345, 45]"
      ]
     },
     "execution_count": 11,
     "metadata": {},
     "output_type": "execute_result"
    }
   ],
   "source": [
    "l[0:3]"
   ]
  },
  {
   "cell_type": "code",
   "execution_count": 12,
   "id": "b0c042f2-d628-4a05-ae87-34d73f1b9442",
   "metadata": {},
   "outputs": [
    {
     "data": {
      "text/plain": [
       "345.456"
      ]
     },
     "execution_count": 12,
     "metadata": {},
     "output_type": "execute_result"
    }
   ],
   "source": [
    "l[-1]"
   ]
  },
  {
   "cell_type": "code",
   "execution_count": 13,
   "id": "7d01c07b-f77e-4855-80cb-a87df38a489a",
   "metadata": {},
   "outputs": [
    {
     "data": {
      "text/plain": [
       "[345.456, (5+7j), True, 'sudh', 45, 345, 1]"
      ]
     },
     "execution_count": 13,
     "metadata": {},
     "output_type": "execute_result"
    }
   ],
   "source": [
    "l[::-1]"
   ]
  },
  {
   "cell_type": "code",
   "execution_count": 14,
   "id": "49512e08-84d0-49b7-89d6-0c2855f81a71",
   "metadata": {},
   "outputs": [
    {
     "data": {
      "text/plain": [
       "[1, 45, True, 345.456]"
      ]
     },
     "execution_count": 14,
     "metadata": {},
     "output_type": "execute_result"
    }
   ],
   "source": [
    "l[0::2]"
   ]
  },
  {
   "cell_type": "code",
   "execution_count": 15,
   "id": "051082ba-93b6-4cf3-ae6f-a8893fc519a8",
   "metadata": {},
   "outputs": [],
   "source": [
    "s=\"mineskill\""
   ]
  },
  {
   "cell_type": "code",
   "execution_count": 16,
   "id": "fa946c09-2c78-4a4e-b10a-ac85d6ea98d4",
   "metadata": {},
   "outputs": [
    {
     "data": {
      "text/plain": [
       "['m', 'i', 'n', 'e', 's', 'k', 'i', 'l', 'l']"
      ]
     },
     "execution_count": 16,
     "metadata": {},
     "output_type": "execute_result"
    }
   ],
   "source": [
    "list(s)"
   ]
  },
  {
   "cell_type": "code",
   "execution_count": 18,
   "id": "70e86fcf-fae9-46bf-a630-826015cc783d",
   "metadata": {},
   "outputs": [
    {
     "data": {
      "text/plain": [
       "[1, 345, 45, 'sudh', True, (5+7j), 345.456]"
      ]
     },
     "execution_count": 18,
     "metadata": {},
     "output_type": "execute_result"
    }
   ],
   "source": [
    "l"
   ]
  },
  {
   "cell_type": "code",
   "execution_count": 19,
   "id": "c2a82095-4e27-4a08-8a55-1fa04035fa89",
   "metadata": {},
   "outputs": [
    {
     "data": {
      "text/plain": [
       "'sudh'"
      ]
     },
     "execution_count": 19,
     "metadata": {},
     "output_type": "execute_result"
    }
   ],
   "source": [
    "l[3]"
   ]
  },
  {
   "cell_type": "code",
   "execution_count": 20,
   "id": "dda8220f-032d-45eb-b844-b8bd31a963b9",
   "metadata": {},
   "outputs": [
    {
     "data": {
      "text/plain": [
       "'su'"
      ]
     },
     "execution_count": 20,
     "metadata": {},
     "output_type": "execute_result"
    }
   ],
   "source": [
    "l[3][0:2]"
   ]
  },
  {
   "cell_type": "code",
   "execution_count": 21,
   "id": "89695e8d-f73e-4612-b01b-0517b047686c",
   "metadata": {},
   "outputs": [
    {
     "data": {
      "text/plain": [
       "True"
      ]
     },
     "execution_count": 21,
     "metadata": {},
     "output_type": "execute_result"
    }
   ],
   "source": [
    "l[4]"
   ]
  },
  {
   "cell_type": "code",
   "execution_count": 22,
   "id": "ba5996e2-efe0-4d00-884b-dbb047e59eaa",
   "metadata": {},
   "outputs": [
    {
     "data": {
      "text/plain": [
       "'Tr'"
      ]
     },
     "execution_count": 22,
     "metadata": {},
     "output_type": "execute_result"
    }
   ],
   "source": [
    "str(l[4])[0:2]"
   ]
  },
  {
   "cell_type": "code",
   "execution_count": 1,
   "id": "08a38d8e-a80f-40ad-be86-88be1e63a102",
   "metadata": {},
   "outputs": [],
   "source": [
    "d={}"
   ]
  },
  {
   "cell_type": "code",
   "execution_count": 2,
   "id": "ca2d2113-60c8-4f9a-bf92-e6e792b2caa6",
   "metadata": {},
   "outputs": [
    {
     "data": {
      "text/plain": [
       "dict"
      ]
     },
     "execution_count": 2,
     "metadata": {},
     "output_type": "execute_result"
    }
   ],
   "source": [
    "type(d)"
   ]
  },
  {
   "cell_type": "code",
   "execution_count": 6,
   "id": "594bbcc8-e67e-4646-98f3-48d445fbb2d5",
   "metadata": {},
   "outputs": [],
   "source": [
    "d1={'key':\"value\"}"
   ]
  },
  {
   "cell_type": "code",
   "execution_count": 7,
   "id": "7a26ba1a-3521-4031-b6a2-d572edafd501",
   "metadata": {},
   "outputs": [
    {
     "data": {
      "text/plain": [
       "{'key': 'value'}"
      ]
     },
     "execution_count": 7,
     "metadata": {},
     "output_type": "execute_result"
    }
   ],
   "source": [
    "d1"
   ]
  },
  {
   "cell_type": "code",
   "execution_count": 8,
   "id": "bd5dcafe-ec6e-4cdb-939f-e7e7f8738686",
   "metadata": {},
   "outputs": [],
   "source": [
    "d2={'name':\"rashika\", 'emil':\"shalini.com\", 'phone num': 8857}"
   ]
  },
  {
   "cell_type": "code",
   "execution_count": 9,
   "id": "9a7f019e-7099-4385-b73e-b4053bfc165a",
   "metadata": {},
   "outputs": [
    {
     "data": {
      "text/plain": [
       "{'name': 'rashika', 'emil': 'shalini.com', 'phone num': 8857}"
      ]
     },
     "execution_count": 9,
     "metadata": {},
     "output_type": "execute_result"
    }
   ],
   "source": [
    "d2"
   ]
  },
  {
   "cell_type": "code",
   "execution_count": 10,
   "id": "2e420eec-31d8-4b7f-ab77-06b483a86b38",
   "metadata": {},
   "outputs": [
    {
     "ename": "SyntaxError",
     "evalue": "invalid syntax (200713615.py, line 1)",
     "output_type": "error",
     "traceback": [
      "\u001b[1;36m  Cell \u001b[1;32mIn[10], line 1\u001b[1;36m\u001b[0m\n\u001b[1;33m    d3={234:\"shalini\",@wer:\"maurya\"}\u001b[0m\n\u001b[1;37m                      ^\u001b[0m\n\u001b[1;31mSyntaxError\u001b[0m\u001b[1;31m:\u001b[0m invalid syntax\n"
     ]
    }
   ],
   "source": [
    "d3={234:\"shalini\",@wer:\"maurya\"}"
   ]
  },
  {
   "cell_type": "code",
   "execution_count": 13,
   "id": "68410692-c431-43dc-9351-6461af3ce3dc",
   "metadata": {},
   "outputs": [],
   "source": [
    "d3={234:\"shalini\",'@wer':\"maurya\" ,True:3345}"
   ]
  },
  {
   "cell_type": "code",
   "execution_count": 14,
   "id": "89c4921e-0477-477c-83b9-a2578a94c951",
   "metadata": {},
   "outputs": [
    {
     "data": {
      "text/plain": [
       "{234: 'shalini', '@wer': 'maurya', True: 3345}"
      ]
     },
     "execution_count": 14,
     "metadata": {},
     "output_type": "execute_result"
    }
   ],
   "source": [
    "d3"
   ]
  },
  {
   "cell_type": "code",
   "execution_count": 16,
   "id": "0f7bc3fe-14bb-45e3-a2a4-08f65e3ca852",
   "metadata": {},
   "outputs": [
    {
     "data": {
      "text/plain": [
       "'shalini'"
      ]
     },
     "execution_count": 16,
     "metadata": {},
     "output_type": "execute_result"
    }
   ],
   "source": [
    "d3[234]"
   ]
  },
  {
   "cell_type": "code",
   "execution_count": 17,
   "id": "f47e33bb-bd3f-42ea-b7db-f9bde3d7d74d",
   "metadata": {},
   "outputs": [
    {
     "data": {
      "text/plain": [
       "3345"
      ]
     },
     "execution_count": 17,
     "metadata": {},
     "output_type": "execute_result"
    }
   ],
   "source": [
    "d3[1]"
   ]
  },
  {
   "cell_type": "code",
   "execution_count": 18,
   "id": "200084ed-83d5-493c-afc2-54a6ff827850",
   "metadata": {},
   "outputs": [],
   "source": [
    "d4={'name':\"shalini\",'mail':\"shalini.com\",\"name\":\"shalini111\"}"
   ]
  },
  {
   "cell_type": "code",
   "execution_count": 19,
   "id": "aedf9e22-8eb6-4f22-87c8-9d6f5de329a7",
   "metadata": {},
   "outputs": [
    {
     "data": {
      "text/plain": [
       "{'name': 'shalini111', 'mail': 'shalini.com'}"
      ]
     },
     "execution_count": 19,
     "metadata": {},
     "output_type": "execute_result"
    }
   ],
   "source": [
    "d4"
   ]
  },
  {
   "cell_type": "code",
   "execution_count": 20,
   "id": "d3e3e601-a5ed-42a7-8523-3d19c51f5da4",
   "metadata": {},
   "outputs": [
    {
     "data": {
      "text/plain": [
       "'shalini111'"
      ]
     },
     "execution_count": 20,
     "metadata": {},
     "output_type": "execute_result"
    }
   ],
   "source": [
    "d4['name']"
   ]
  },
  {
   "cell_type": "code",
   "execution_count": 22,
   "id": "dfb49596-e953-4c48-9f52-ec56102be002",
   "metadata": {},
   "outputs": [],
   "source": [
    "d5={\"company\":\"microsoft\", \"job\":[\"software devloper\",\"data scientist\",\"cloud holder\"]}"
   ]
  },
  {
   "cell_type": "code",
   "execution_count": 23,
   "id": "f43804eb-a085-4616-b426-2f6d9f49d3aa",
   "metadata": {},
   "outputs": [
    {
     "data": {
      "text/plain": [
       "{'company': 'microsoft',\n",
       " 'job': ['software devloper', 'data scientist', 'cloud holder']}"
      ]
     },
     "execution_count": 23,
     "metadata": {},
     "output_type": "execute_result"
    }
   ],
   "source": [
    "d5"
   ]
  },
  {
   "cell_type": "code",
   "execution_count": 24,
   "id": "05c53a96-69bb-46dd-91c1-4654b756c5b0",
   "metadata": {},
   "outputs": [
    {
     "data": {
      "text/plain": [
       "['software devloper', 'data scientist', 'cloud holder']"
      ]
     },
     "execution_count": 24,
     "metadata": {},
     "output_type": "execute_result"
    }
   ],
   "source": [
    "d5['job']"
   ]
  },
  {
   "cell_type": "code",
   "execution_count": 25,
   "id": "0c4aa636-8ef1-4402-b70b-578acf5b083e",
   "metadata": {},
   "outputs": [
    {
     "data": {
      "text/plain": [
       "'data scientist'"
      ]
     },
     "execution_count": 25,
     "metadata": {},
     "output_type": "execute_result"
    }
   ],
   "source": [
    "d5['job'][1]"
   ]
  },
  {
   "cell_type": "code",
   "execution_count": 27,
   "id": "b4e45246-3fd2-4d8a-a78b-02bafed324e6",
   "metadata": {},
   "outputs": [],
   "source": [
    "d6={'number':[2,34,3,45,67],\"assisgment\":(1,2,3,4,5),\"launch date\":{1,2,3,4,5}}"
   ]
  },
  {
   "cell_type": "code",
   "execution_count": 28,
   "id": "3ecc4c71-75cc-42cd-a74e-4e51f0f20119",
   "metadata": {},
   "outputs": [
    {
     "data": {
      "text/plain": [
       "{'number': [2, 34, 3, 45, 67],\n",
       " 'assisgment': (1, 2, 3, 4, 5),\n",
       " 'launch date': {1, 2, 3, 4, 5}}"
      ]
     },
     "execution_count": 28,
     "metadata": {},
     "output_type": "execute_result"
    }
   ],
   "source": [
    "d6"
   ]
  },
  {
   "cell_type": "code",
   "execution_count": 29,
   "id": "21b687af-7463-4804-9f50-51ffd80b2125",
   "metadata": {},
   "outputs": [
    {
     "data": {
      "text/plain": [
       "5"
      ]
     },
     "execution_count": 29,
     "metadata": {},
     "output_type": "execute_result"
    }
   ],
   "source": [
    "d6[\"assisgment\"][4]"
   ]
  },
  {
   "cell_type": "code",
   "execution_count": 30,
   "id": "91e3f22e-fdd5-4558-aed6-bbbce3503360",
   "metadata": {},
   "outputs": [],
   "source": [
    "d6[\"mentor\"]=[\"shivani\",\"vaibhav\",\"sameer\"]"
   ]
  },
  {
   "cell_type": "code",
   "execution_count": 31,
   "id": "346355b2-3746-4557-83d4-d17f4fdd384f",
   "metadata": {},
   "outputs": [
    {
     "data": {
      "text/plain": [
       "{'number': [2, 34, 3, 45, 67],\n",
       " 'assisgment': (1, 2, 3, 4, 5),\n",
       " 'launch date': {1, 2, 3, 4, 5},\n",
       " 'mentor': ['shivani', 'vaibhav', 'sameer']}"
      ]
     },
     "execution_count": 31,
     "metadata": {},
     "output_type": "execute_result"
    }
   ],
   "source": [
    "d6"
   ]
  },
  {
   "cell_type": "code",
   "execution_count": null,
   "id": "4660138d-60ed-475f-940b-a3fa9b3624b9",
   "metadata": {},
   "outputs": [],
   "source": [
    "del d6[\"number]"
   ]
  },
  {
   "cell_type": "code",
   "execution_count": 36,
   "id": "cd6f8de3-c882-4a0a-846c-355c91cb0c47",
   "metadata": {},
   "outputs": [
    {
     "data": {
      "text/plain": [
       "{'assisgment': (1, 2, 3, 4, 5),\n",
       " 'launch date': {1, 2, 3, 4, 5},\n",
       " 'mentor': ['shivani', 'vaibhav', 'sameer']}"
      ]
     },
     "execution_count": 36,
     "metadata": {},
     "output_type": "execute_result"
    }
   ],
   "source": [
    "d6"
   ]
  },
  {
   "cell_type": "code",
   "execution_count": 37,
   "id": "7be9dbce-6da7-4fc0-82fe-c5a56cd2df99",
   "metadata": {},
   "outputs": [
    {
     "data": {
      "text/plain": [
       "dict_keys(['assisgment', 'launch date', 'mentor'])"
      ]
     },
     "execution_count": 37,
     "metadata": {},
     "output_type": "execute_result"
    }
   ],
   "source": [
    "d6.keys()"
   ]
  },
  {
   "cell_type": "code",
   "execution_count": 38,
   "id": "c329744b-cda4-4e58-bf10-b92afb67584f",
   "metadata": {},
   "outputs": [
    {
     "data": {
      "text/plain": [
       "[('assisgment', (1, 2, 3, 4, 5)),\n",
       " ('launch date', {1, 2, 3, 4, 5}),\n",
       " ('mentor', ['shivani', 'vaibhav', 'sameer'])]"
      ]
     },
     "execution_count": 38,
     "metadata": {},
     "output_type": "execute_result"
    }
   ],
   "source": [
    "list(d6.items())"
   ]
  },
  {
   "cell_type": "code",
   "execution_count": 39,
   "id": "07fd7192-5204-4446-9d77-d5e089508365",
   "metadata": {},
   "outputs": [
    {
     "data": {
      "text/plain": [
       "(1, 2, 3, 4, 5)"
      ]
     },
     "execution_count": 39,
     "metadata": {},
     "output_type": "execute_result"
    }
   ],
   "source": [
    "d6.pop(\"assisgment\")"
   ]
  },
  {
   "cell_type": "code",
   "execution_count": 40,
   "id": "a33e6e59-2288-4867-a3a6-5dda997fbcfa",
   "metadata": {},
   "outputs": [
    {
     "data": {
      "text/plain": [
       "{'launch date': {1, 2, 3, 4, 5}, 'mentor': ['shivani', 'vaibhav', 'sameer']}"
      ]
     },
     "execution_count": 40,
     "metadata": {},
     "output_type": "execute_result"
    }
   ],
   "source": [
    "d6"
   ]
  },
  {
   "cell_type": "code",
   "execution_count": null,
   "id": "b61f0f74-de4e-4a29-904d-67ca47a29018",
   "metadata": {},
   "outputs": [],
   "source": []
  }
 ],
 "metadata": {
  "kernelspec": {
   "display_name": "Python 3 (ipykernel)",
   "language": "python",
   "name": "python3"
  },
  "language_info": {
   "codemirror_mode": {
    "name": "ipython",
    "version": 3
   },
   "file_extension": ".py",
   "mimetype": "text/x-python",
   "name": "python",
   "nbconvert_exporter": "python",
   "pygments_lexer": "ipython3",
   "version": "3.13.1"
  }
 },
 "nbformat": 4,
 "nbformat_minor": 5
}
