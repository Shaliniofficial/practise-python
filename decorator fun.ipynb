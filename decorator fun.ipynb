{
 "cells": [
  {
   "cell_type": "code",
   "execution_count": 4,
   "id": "186f5578-1164-42b5-b807-277db3a46ab5",
   "metadata": {},
   "outputs": [],
   "source": [
    "#decorator function\n",
    "def deco(func):\n",
    "    def inner_dec():\n",
    "        print(\"shalini maurya\")\n",
    "        func()\n",
    "        print(\"gniot\")\n",
    "    return inner_dec"
   ]
  },
  {
   "cell_type": "code",
   "execution_count": 5,
   "id": "bb88fac1-d68e-4c2a-84a2-120f72071340",
   "metadata": {},
   "outputs": [],
   "source": [
    "@deco\n",
    "def test1():\n",
    "    print(6+7)"
   ]
  },
  {
   "cell_type": "code",
   "execution_count": 6,
   "id": "609b60ab-de96-4cc5-9051-c764e804cf08",
   "metadata": {},
   "outputs": [
    {
     "name": "stdout",
     "output_type": "stream",
     "text": [
      "shalini maurya\n",
      "13\n",
      "gniot\n"
     ]
    }
   ],
   "source": [
    "test1()"
   ]
  },
  {
   "cell_type": "code",
   "execution_count": 7,
   "id": "74b281fe-4d00-4605-a843-17d372f68935",
   "metadata": {},
   "outputs": [],
   "source": [
    "def mine(func):\n",
    "    def uss_me():\n",
    "        print(\"i m from fatehpur\")\n",
    "        func()\n",
    "        print(\"kittu\")\n",
    "        print(\"shalini\")\n",
    "    return uss_me"
   ]
  },
  {
   "cell_type": "code",
   "execution_count": 8,
   "id": "d59ffb84-be4b-4958-9065-e14bb25eca56",
   "metadata": {},
   "outputs": [],
   "source": [
    "@mine\n",
    "def you():\n",
    "    print(8+9)"
   ]
  },
  {
   "cell_type": "code",
   "execution_count": 9,
   "id": "75cba888-16cc-4e01-8d91-c81d5d26a60c",
   "metadata": {},
   "outputs": [
    {
     "name": "stdout",
     "output_type": "stream",
     "text": [
      "i m from fatehpur\n",
      "17\n",
      "kittu\n",
      "shalini\n"
     ]
    }
   ],
   "source": [
    "you()"
   ]
  },
  {
   "cell_type": "code",
   "execution_count": 1,
   "id": "ada7498b-88b2-4a0d-9566-4bf428a9082e",
   "metadata": {},
   "outputs": [],
   "source": [
    "import time\n",
    "def timming(func):\n",
    "    def timming_test():\n",
    "        start=time.time()\n",
    "        func()\n",
    "        end=time.time()\n",
    "        print(end-start)\n",
    "    return timming_test"
   ]
  },
  {
   "cell_type": "code",
   "execution_count": 2,
   "id": "29c9fa13-74a6-4aee-a704-f2bb489974eb",
   "metadata": {},
   "outputs": [],
   "source": [
    "@timming\n",
    "def test2():\n",
    "    print(24*45)"
   ]
  },
  {
   "cell_type": "code",
   "execution_count": 3,
   "id": "b2b07b8d-daf5-4cb4-a385-584f50c2d94d",
   "metadata": {},
   "outputs": [
    {
     "name": "stdout",
     "output_type": "stream",
     "text": [
      "1080\n",
      "0.00018215179443359375\n"
     ]
    }
   ],
   "source": [
    "test2()"
   ]
  },
  {
   "cell_type": "code",
   "execution_count": 4,
   "id": "93ab8c16-926b-41f2-9535-3dc895b6d209",
   "metadata": {},
   "outputs": [],
   "source": [
    "@timming\n",
    "def test3():\n",
    "    for i in range(10000000000):\n",
    "        pass"
   ]
  },
  {
   "cell_type": "code",
   "execution_count": null,
   "id": "1b5c052c-5241-451f-ab86-a1747e4655c0",
   "metadata": {},
   "outputs": [],
   "source": [
    "test3()"
   ]
  },
  {
   "cell_type": "code",
   "execution_count": null,
   "id": "8b0a03a8-a929-498a-9e9d-a2b1c7d893d1",
   "metadata": {},
   "outputs": [],
   "source": []
  },
  {
   "cell_type": "code",
   "execution_count": null,
   "id": "ef3cb377-e432-4a93-92b6-9179ca20e70b",
   "metadata": {},
   "outputs": [],
   "source": []
  },
  {
   "cell_type": "code",
   "execution_count": null,
   "id": "42ccb759-c055-4e92-9234-fa93cf070322",
   "metadata": {},
   "outputs": [],
   "source": []
  }
 ],
 "metadata": {
  "kernelspec": {
   "display_name": "Python 3 (ipykernel)",
   "language": "python",
   "name": "python3"
  },
  "language_info": {
   "codemirror_mode": {
    "name": "ipython",
    "version": 3
   },
   "file_extension": ".py",
   "mimetype": "text/x-python",
   "name": "python",
   "nbconvert_exporter": "python",
   "pygments_lexer": "ipython3",
   "version": "3.13.1"
  }
 },
 "nbformat": 4,
 "nbformat_minor": 5
}
