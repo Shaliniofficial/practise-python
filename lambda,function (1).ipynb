{
 "cells": [
  {
   "cell_type": "code",
   "execution_count": 1,
   "id": "092ffb0e-64b4-4618-8da9-7cf1f9ee1c4c",
   "metadata": {},
   "outputs": [
    {
     "data": {
      "text/plain": [
       "1024"
      ]
     },
     "execution_count": 1,
     "metadata": {},
     "output_type": "execute_result"
    }
   ],
   "source": [
    "def test(n,p):\n",
    "    return n**p\n",
    "test(4,5)    \n"
   ]
  },
  {
   "cell_type": "code",
   "execution_count": 2,
   "id": "12640414-f35e-4516-bd72-38d21e69e454",
   "metadata": {},
   "outputs": [
    {
     "data": {
      "text/plain": [
       "<function __main__.<lambda>(n, p)>"
      ]
     },
     "execution_count": 2,
     "metadata": {},
     "output_type": "execute_result"
    }
   ],
   "source": [
    "#making lamda function\n",
    "lambda n,p:n**p"
   ]
  },
  {
   "cell_type": "code",
   "execution_count": 3,
   "id": "b9052749-2526-4aa6-9bee-6aff5b9802e2",
   "metadata": {},
   "outputs": [
    {
     "data": {
      "text/plain": [
       "9"
      ]
     },
     "execution_count": 3,
     "metadata": {},
     "output_type": "execute_result"
    }
   ],
   "source": [
    "a=lambda n,p:n**p\n",
    "#call a\n",
    "a(3,2)"
   ]
  },
  {
   "cell_type": "code",
   "execution_count": 1,
   "id": "38f6c42e-a607-4d23-b3d4-6a8d33c57da2",
   "metadata": {},
   "outputs": [
    {
     "data": {
      "text/plain": [
       "179"
      ]
     },
     "execution_count": 1,
     "metadata": {},
     "output_type": "execute_result"
    }
   ],
   "source": [
    "add=lambda x,y:x+y\n",
    "add(90,89)"
   ]
  },
  {
   "cell_type": "code",
   "execution_count": 4,
   "id": "6e97b496-5e71-4b13-bcd5-a564c08d3fae",
   "metadata": {},
   "outputs": [
    {
     "data": {
      "text/plain": [
       "152.60000000000002"
      ]
     },
     "execution_count": 4,
     "metadata": {},
     "output_type": "execute_result"
    }
   ],
   "source": [
    "#convert celcious to fareignhieght\n",
    "c_to_f=lambda c : (9/5)*c+32\n",
    "c_to_f(67)\n"
   ]
  },
  {
   "cell_type": "code",
   "execution_count": 9,
   "id": "59ab07ba-3cb2-4cf1-af53-f42c19b47d2f",
   "metadata": {},
   "outputs": [
    {
     "data": {
      "text/plain": [
       "10"
      ]
     },
     "execution_count": 9,
     "metadata": {},
     "output_type": "execute_result"
    }
   ],
   "source": [
    "s=\"incredible\"\n",
    "find_length=lambda s: len(s)\n",
    "find_length(s)"
   ]
  },
  {
   "cell_type": "code",
   "execution_count": null,
   "id": "3341ae82-a3ad-4da6-ac41-62e8797beab8",
   "metadata": {},
   "outputs": [],
   "source": []
  },
  {
   "cell_type": "code",
   "execution_count": null,
   "id": "80759c31-3b81-4bd9-887d-71b95b1e24d8",
   "metadata": {},
   "outputs": [],
   "source": []
  }
 ],
 "metadata": {
  "kernelspec": {
   "display_name": "Python 3 (ipykernel)",
   "language": "python",
   "name": "python3"
  },
  "language_info": {
   "codemirror_mode": {
    "name": "ipython",
    "version": 3
   },
   "file_extension": ".py",
   "mimetype": "text/x-python",
   "name": "python",
   "nbconvert_exporter": "python",
   "pygments_lexer": "ipython3",
   "version": "3.13.1"
  }
 },
 "nbformat": 4,
 "nbformat_minor": 5
}
