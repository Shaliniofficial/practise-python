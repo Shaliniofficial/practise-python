{
 "cells": [
  {
   "cell_type": "code",
   "execution_count": 9,
   "id": "c3809ea7-0963-41bd-9fea-9caca9088200",
   "metadata": {},
   "outputs": [],
   "source": [
    "a=1"
   ]
  },
  {
   "cell_type": "code",
   "execution_count": 10,
   "id": "428b7b5e-1c04-4c20-a11e-15b013c9ca8d",
   "metadata": {},
   "outputs": [
    {
     "name": "stdout",
     "output_type": "stream",
     "text": [
      "<class 'int'>\n"
     ]
    }
   ],
   "source": [
    "print(type(a))"
   ]
  },
  {
   "cell_type": "code",
   "execution_count": 12,
   "id": "36fa2352-2e61-432e-a114-b164f2310dec",
   "metadata": {},
   "outputs": [
    {
     "name": "stdout",
     "output_type": "stream",
     "text": [
      "<class 'str'>\n"
     ]
    }
   ],
   "source": [
    "print(type(\"shalini\"))"
   ]
  },
  {
   "cell_type": "code",
   "execution_count": 13,
   "id": "25913c46-975a-45db-9204-5dbc41578e90",
   "metadata": {},
   "outputs": [],
   "source": [
    "class test:\n",
    "    pass"
   ]
  },
  {
   "cell_type": "code",
   "execution_count": 14,
   "id": "0a96f484-aaa1-4f46-afab-dc276cac419f",
   "metadata": {},
   "outputs": [],
   "source": [
    "a=test()"
   ]
  },
  {
   "cell_type": "code",
   "execution_count": 15,
   "id": "51e65871-508e-4693-8f8e-841b4a5cc162",
   "metadata": {},
   "outputs": [
    {
     "data": {
      "text/plain": [
       "__main__.test"
      ]
     },
     "execution_count": 15,
     "metadata": {},
     "output_type": "execute_result"
    }
   ],
   "source": [
    "type(a)"
   ]
  },
  {
   "cell_type": "code",
   "execution_count": 16,
   "id": "35b5dbc1-7ceb-42c1-b3b1-cf225ce0d651",
   "metadata": {},
   "outputs": [
    {
     "name": "stdout",
     "output_type": "stream",
     "text": [
      "<class '__main__.test'>\n"
     ]
    }
   ],
   "source": [
    "print(type(a))"
   ]
  },
  {
   "cell_type": "code",
   "execution_count": 18,
   "id": "8777d01a-5640-4a72-abc9-40e661f373a4",
   "metadata": {},
   "outputs": [],
   "source": [
    "class shalini:\n",
    "    def welcome_house(self):\n",
    "        print(\"welcom to shalini house\")"
   ]
  },
  {
   "cell_type": "code",
   "execution_count": 19,
   "id": "15be976a-ddf0-4761-a0c1-93f5fd828b07",
   "metadata": {},
   "outputs": [],
   "source": [
    "shivendra=shalini()"
   ]
  },
  {
   "cell_type": "code",
   "execution_count": 20,
   "id": "50f3e7b6-a6d7-429c-98e0-86ccd557ee30",
   "metadata": {},
   "outputs": [
    {
     "name": "stdout",
     "output_type": "stream",
     "text": [
      "<class '__main__.shalini'>\n"
     ]
    }
   ],
   "source": [
    "print(type(shivendra))"
   ]
  },
  {
   "cell_type": "code",
   "execution_count": 25,
   "id": "1bfd5806-600a-41eb-82ef-64ab25bde610",
   "metadata": {},
   "outputs": [
    {
     "name": "stdout",
     "output_type": "stream",
     "text": [
      "welcom to shalini house\n"
     ]
    }
   ],
   "source": [
    "shivendra.welcome_house()"
   ]
  },
  {
   "cell_type": "code",
   "execution_count": 26,
   "id": "c4472abd-e6e2-4fb0-9e28-16613057b100",
   "metadata": {},
   "outputs": [],
   "source": [
    "gaurav=shalini()"
   ]
  },
  {
   "cell_type": "code",
   "execution_count": 27,
   "id": "0e5df660-c1e4-43be-8b77-0b061b84b39c",
   "metadata": {},
   "outputs": [
    {
     "name": "stdout",
     "output_type": "stream",
     "text": [
      "welcom to shalini house\n"
     ]
    }
   ],
   "source": [
    "gaurav.welcome_house()"
   ]
  },
  {
   "cell_type": "code",
   "execution_count": 28,
   "id": "5c6f905a-2151-403e-b190-9d478829e111",
   "metadata": {},
   "outputs": [
    {
     "name": "stdout",
     "output_type": "stream",
     "text": [
      "welcom to shalini house\n"
     ]
    }
   ],
   "source": [
    "class shalini:\n",
    "    def welcome_house(self):\n",
    "        print(\"welcom to shalini house\")\n",
    "shivendra=shalini()\n",
    "shivendra.welcome_house()"
   ]
  },
  {
   "cell_type": "code",
   "execution_count": 50,
   "id": "b15d2974-82a8-47e8-9751-d5e89b228a4f",
   "metadata": {},
   "outputs": [],
   "source": [
    "class mine:\n",
    "    def __init__(self,phone_number,stu_id,email_id):\n",
    "        self.phone_number=phone_number\n",
    "        self.stu_id=stu_id\n",
    "        self.email_id=email_id\n",
    "    def return_student_deatils(self):\n",
    "        return self.stu_id,self.email_id,self.phone_number\n",
    "        \n",
    "    \n",
    "    \n",
    "    "
   ]
  },
  {
   "cell_type": "code",
   "execution_count": 54,
   "id": "5c4d107a-b91b-428b-84a0-8a99406a026e",
   "metadata": {},
   "outputs": [],
   "source": [
    "rohan=mine(123456,\"gmail.com\",102)"
   ]
  },
  {
   "cell_type": "code",
   "execution_count": 61,
   "id": "2a74f01d-001b-4ef0-a85a-e253be1a52ca",
   "metadata": {},
   "outputs": [
    {
     "data": {
      "text/plain": [
       "('gmail.com', 102, 123456)"
      ]
     },
     "execution_count": 61,
     "metadata": {},
     "output_type": "execute_result"
    }
   ],
   "source": [
    "rohan.return_student_deatils()"
   ]
  },
  {
   "cell_type": "code",
   "execution_count": 57,
   "id": "8df01b65-6a39-4f21-aeb4-26129a93fbcb",
   "metadata": {},
   "outputs": [],
   "source": [
    "gaurav=mine(12344455,\"gaurav@gmail.com\",104)"
   ]
  },
  {
   "cell_type": "code",
   "execution_count": 58,
   "id": "776866f1-e172-49d8-bbf3-30353bc01dc1",
   "metadata": {},
   "outputs": [
    {
     "data": {
      "text/plain": [
       "('gaurav@gmail.com', 104, 12344455)"
      ]
     },
     "execution_count": 58,
     "metadata": {},
     "output_type": "execute_result"
    }
   ],
   "source": [
    "gaurav.return_student_deatils()"
   ]
  },
  {
   "cell_type": "code",
   "execution_count": 53,
   "id": "778b5887-8658-4506-94aa-00d175776a5b",
   "metadata": {},
   "outputs": [
    {
     "data": {
      "text/plain": [
       "('gmail.com', 102, 123456)"
      ]
     },
     "execution_count": 53,
     "metadata": {},
     "output_type": "execute_result"
    }
   ],
   "source": [
    "class mine:\n",
    "    def __init__(self,phone_number,stu_id,email_id):\n",
    "        self.phone_number=phone_number\n",
    "        self.stu_id=stu_id\n",
    "        self.email_id=email_id\n",
    "    def return_student_deatils(self):\n",
    "        return self.stu_id,self.email_id,self.phone_number\n",
    "rohan=mine(123456,\"gmail.com\",102)\n",
    "rohan.return_student_deatils()\n"
   ]
  },
  {
   "cell_type": "code",
   "execution_count": 65,
   "id": "067f6383-4276-460d-b053-54d02d92fd77",
   "metadata": {},
   "outputs": [],
   "source": [
    "class mine:\n",
    "    def __init__(shalini,phone_number,stu_id,email_id):\n",
    "        shalini.phone_number=phone_number\n",
    "        shalini.stu_id=stu_id\n",
    "        shalini.email_id=email_id\n",
    "    def return_student_deatils(shalini):\n",
    "        return shalini.stu_id,shalini.email_id,shalini.phone_number"
   ]
  },
  {
   "cell_type": "code",
   "execution_count": 66,
   "id": "98151f1d-491f-43f8-a2ef-6d9c102f045a",
   "metadata": {},
   "outputs": [],
   "source": [
    "rohan=mine(12333333,\"@gmail.com1\",107)"
   ]
  },
  {
   "cell_type": "code",
   "execution_count": 67,
   "id": "36d7d769-7e5b-4aa0-9fa1-f31619af8c8d",
   "metadata": {},
   "outputs": [
    {
     "data": {
      "text/plain": [
       "('@gmail.com1', 107, 12333333)"
      ]
     },
     "execution_count": 67,
     "metadata": {},
     "output_type": "execute_result"
    }
   ],
   "source": [
    "rohan.return_student_deatils()"
   ]
  },
  {
   "cell_type": "code",
   "execution_count": 68,
   "id": "d8596adc-98d2-41be-bdb5-aaf2b116b403",
   "metadata": {},
   "outputs": [
    {
     "data": {
      "text/plain": [
       "12333333"
      ]
     },
     "execution_count": 68,
     "metadata": {},
     "output_type": "execute_result"
    }
   ],
   "source": [
    "rohan.phone_number"
   ]
  },
  {
   "cell_type": "code",
   "execution_count": null,
   "id": "2e4eb000-23e5-45f8-b93d-24a797d63adf",
   "metadata": {},
   "outputs": [],
   "source": []
  }
 ],
 "metadata": {
  "kernelspec": {
   "display_name": "Python 3 (ipykernel)",
   "language": "python",
   "name": "python3"
  },
  "language_info": {
   "codemirror_mode": {
    "name": "ipython",
    "version": 3
   },
   "file_extension": ".py",
   "mimetype": "text/x-python",
   "name": "python",
   "nbconvert_exporter": "python",
   "pygments_lexer": "ipython3",
   "version": "3.13.1"
  }
 },
 "nbformat": 4,
 "nbformat_minor": 5
}
